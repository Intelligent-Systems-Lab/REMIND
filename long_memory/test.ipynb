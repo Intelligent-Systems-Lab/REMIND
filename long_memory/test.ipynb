{
 "cells": [
  {
   "cell_type": "code",
   "execution_count": 2,
   "metadata": {},
   "outputs": [],
   "source": [
    "import weaviate\n",
    "k = weaviate.connect_to_local(\"127.0.0.1\", 8080)"
   ]
  },
  {
   "cell_type": "code",
   "execution_count": 3,
   "metadata": {},
   "outputs": [
    {
     "data": {
      "text/plain": [
       "{'Deafult_long_memory_group': _CollectionConfigSimple(name='Deafult_long_memory_group', description='abstract of msg group', generative_config=None, properties=[_Property(name='time', description=None, data_type=<DataType.DATE: 'date'>, index_filterable=True, index_range_filters=False, index_searchable=False, nested_properties=None, tokenization=None, vectorizer_config=_PropertyVectorizerConfig(skip=False, vectorize_property_name=False), vectorizer='text2vec-openai'), _Property(name='text', description=None, data_type=<DataType.TEXT: 'text'>, index_filterable=True, index_range_filters=False, index_searchable=True, nested_properties=None, tokenization=<Tokenization.WORD: 'word'>, vectorizer_config=_PropertyVectorizerConfig(skip=False, vectorize_property_name=False), vectorizer='text2vec-openai')], references=[], reranker_config=None, vectorizer_config=_VectorizerConfig(vectorizer=<Vectorizers.TEXT2VEC_OPENAI: 'text2vec-openai'>, model={'baseURL': 'https://api.openai.com', 'model': 'text-embedding-3-small'}, vectorize_collection_name=True), vectorizer=<Vectorizers.TEXT2VEC_OPENAI: 'text2vec-openai'>, vector_config=None),\n",
       " 'Deafult_long_memory_child': _CollectionConfigSimple(name='Deafult_long_memory_child', description='chat history', generative_config=None, properties=[], references=[], reranker_config=None, vectorizer_config=_VectorizerConfig(vectorizer=<Vectorizers.TEXT2VEC_OPENAI: 'text2vec-openai'>, model={'baseURL': 'https://api.openai.com', 'model': 'text-embedding-3-small'}, vectorize_collection_name=True), vectorizer=<Vectorizers.TEXT2VEC_OPENAI: 'text2vec-openai'>, vector_config=None)}"
      ]
     },
     "execution_count": 3,
     "metadata": {},
     "output_type": "execute_result"
    }
   ],
   "source": [
    "k.collections.list_all()"
   ]
  },
  {
   "cell_type": "code",
   "execution_count": 2,
   "metadata": {},
   "outputs": [],
   "source": [
    "k.collections.delete_all()"
   ]
  },
  {
   "cell_type": "code",
   "execution_count": 6,
   "metadata": {},
   "outputs": [],
   "source": [
    "from weaviate.classes.query import MetadataQuery\n",
    "j = k.collections.get(\"long_memory_child\")\n",
    "res = j.query.near_text(\n",
    "            query=\"I am elephant\",\n",
    "            limit=2,\n",
    "            return_properties=[\"text\"],\n",
    "            return_metadata=MetadataQuery(distance=True)\n",
    ")"
   ]
  },
  {
   "cell_type": "code",
   "execution_count": 16,
   "metadata": {},
   "outputs": [],
   "source": [
    "from weaviate.classes.query import MetadataQuery\n",
    "from weaviate.classes.query import QueryReference\n",
    "\n",
    "j = k.collections.get(\"long_memory_child\")\n",
    "res = j.query.fetch_objects(\n",
    "    limit=10\n",
    ")"
   ]
  },
  {
   "cell_type": "code",
   "execution_count": 17,
   "metadata": {},
   "outputs": [
    {
     "data": {
      "text/plain": [
       "[Object(uuid=_WeaviateUUIDInt('25798598-1076-452b-8b93-55e011d783da'), metadata=MetadataReturn(creation_time=None, last_update_time=None, distance=None, certainty=None, score=None, explain_score=None, is_consistent=None, rerank_score=None), properties={'text': 'Emma studies at NYCU', 'origin_text': None, 'time': None}, references=None, vector={}, collection='Long_memory_child'),\n",
       " Object(uuid=_WeaviateUUIDInt('3110db94-1d7b-4036-87d4-bc10830d2dbc'), metadata=MetadataReturn(creation_time=None, last_update_time=None, distance=None, certainty=None, score=None, explain_score=None, is_consistent=None, rerank_score=None), properties={'text': \"she learns deep-learning for her master's degree\", 'origin_text': None, 'time': None}, references=None, vector={}, collection='Long_memory_child'),\n",
       " Object(uuid=_WeaviateUUIDInt('35b92531-d686-4586-a512-79559181c53a'), metadata=MetadataReturn(creation_time=None, last_update_time=None, distance=None, certainty=None, score=None, explain_score=None, is_consistent=None, rerank_score=None), properties={'text': 'one day, elephant wake up and eat an apple as breakfast', 'origin_text': None, 'time': None}, references=None, vector={}, collection='Long_memory_child'),\n",
       " Object(uuid=_WeaviateUUIDInt('419f8c47-7002-48fa-a1a6-bada8169b5ca'), metadata=MetadataReturn(creation_time=None, last_update_time=None, distance=None, certainty=None, score=None, explain_score=None, is_consistent=None, rerank_score=None), properties={'text': 'he swims all day for fun.', 'origin_text': None, 'time': None}, references=None, vector={}, collection='Long_memory_child'),\n",
       " Object(uuid=_WeaviateUUIDInt('5f971bc1-c50b-42f1-b190-17495eb37f40'), metadata=MetadataReturn(creation_time=None, last_update_time=None, distance=None, certainty=None, score=None, explain_score=None, is_consistent=None, rerank_score=None), properties={'text': \"she learns deep-learning for her master's degree\", 'origin_text': None, 'time': None}, references=None, vector={}, collection='Long_memory_child'),\n",
       " Object(uuid=_WeaviateUUIDInt('db6c4d49-ec80-4582-878b-2425f085d86b'), metadata=MetadataReturn(creation_time=None, last_update_time=None, distance=None, certainty=None, score=None, explain_score=None, is_consistent=None, rerank_score=None), properties={'text': 'Emma studies at NYCU', 'origin_text': None, 'time': None}, references=None, vector={}, collection='Long_memory_child')]"
      ]
     },
     "execution_count": 17,
     "metadata": {},
     "output_type": "execute_result"
    }
   ],
   "source": [
    "res.objects"
   ]
  },
  {
   "cell_type": "code",
   "execution_count": 69,
   "metadata": {},
   "outputs": [],
   "source": [
    "from weaviate.classes.query import Filter\n",
    "j = k.collections.get(\"long_memory_child\")\n",
    "res = j.query.fetch_objects(\n",
    "    filters=Filter.by_ref(link_on=\"parent\").by_id().equal(\"bb373485-0c48-491c-a506-4034ac4a1ea1\"),\n",
    "    limit=3\n",
    ")"
   ]
  },
  {
   "cell_type": "code",
   "execution_count": 70,
   "metadata": {},
   "outputs": [
    {
     "data": {
      "text/plain": [
       "[Object(uuid=_WeaviateUUIDInt('55b7a5e6-b0fe-4e6c-bd33-202a66670bf1'), metadata=MetadataReturn(creation_time=None, last_update_time=None, distance=None, certainty=None, score=None, explain_score=None, is_consistent=None, rerank_score=None), properties={'origin_text': None, 'text': 'one day, elephant wake up and eat an apple as breakfast', 'time': None}, references=None, vector={}, collection='Long_memory_child')]"
      ]
     },
     "execution_count": 70,
     "metadata": {},
     "output_type": "execute_result"
    }
   ],
   "source": [
    "res.objects"
   ]
  },
  {
   "cell_type": "code",
   "execution_count": 67,
   "metadata": {},
   "outputs": [
    {
     "data": {
      "text/plain": [
       "[Object(uuid=_WeaviateUUIDInt('bb373485-0c48-491c-a506-4034ac4a1ea1'), metadata=MetadataReturn(creation_time=None, last_update_time=None, distance=None, certainty=None, score=None, explain_score=None, is_consistent=None, rerank_score=None), properties={'text': 'this is a animal story about elephant'}, references=None, vector={}, collection='Long_memory_group')]"
      ]
     },
     "execution_count": 67,
     "metadata": {},
     "output_type": "execute_result"
    }
   ],
   "source": [
    "res.objects[0].references['parent'].objects"
   ]
  },
  {
   "cell_type": "code",
   "execution_count": 60,
   "metadata": {},
   "outputs": [],
   "source": [
    "from weaviate.classes.config import ReferenceProperty\n",
    "j.config.add_reference(\n",
    "    ReferenceProperty(\n",
    "        name=\"parent\",\n",
    "        target_collection=\"long_memory_group\"\n",
    "    )\n",
    ")"
   ]
  },
  {
   "cell_type": "code",
   "execution_count": 63,
   "metadata": {},
   "outputs": [
    {
     "data": {
      "text/plain": [
       "UUID('55b7a5e6-b0fe-4e6c-bd33-202a66670bf1')"
      ]
     },
     "execution_count": 63,
     "metadata": {},
     "output_type": "execute_result"
    }
   ],
   "source": [
    "j = k.collections.get(\"long_memory_child\")\n",
    "j.data.insert(\n",
    "            properties={\"text\": \"one day, elephant wake up and eat an apple as breakfast\"},\n",
    "            references={\"parent\":'bb373485-0c48-491c-a506-4034ac4a1ea1'}\n",
    ")"
   ]
  },
  {
   "cell_type": "markdown",
   "metadata": {},
   "source": [
    "insert group data"
   ]
  },
  {
   "cell_type": "code",
   "execution_count": 4,
   "metadata": {},
   "outputs": [
    {
     "name": "stdout",
     "output_type": "stream",
     "text": [
      "Detect existed deafult user group memory space, loading...\n",
      "Detect existed deafult user child memory space, loading...\n"
     ]
    },
    {
     "name": "stderr",
     "output_type": "stream",
     "text": [
      "/home/carbarcha/.local/lib/python3.10/site-packages/weaviate/warnings.py:303: ResourceWarning: Con004: The connection to Weaviate was not closed properly. This can lead to memory leaks.\n",
      "            Please make sure to close the connection using `client.close()`.\n",
      "  warnings.warn(\n"
     ]
    }
   ],
   "source": [
    "from component import WeaviateLongMemory\n",
    "L = WeaviateLongMemory()"
   ]
  },
  {
   "cell_type": "code",
   "execution_count": 5,
   "metadata": {},
   "outputs": [],
   "source": [
    "child_1 = [\n",
    "    {\"text\": \"one day, elephant wake up and eat an apple as breakfast\"},\n",
    "    {\"text\": \"he swims all day for fun.\"}\n",
    "]\n",
    "\n",
    "child_2 = [\n",
    "    {\"text\":\"Emma studies at NYCU\"},\n",
    "    {\"text\":\"she learns deep-learning for her master's degree\"}\n",
    "]"
   ]
  },
  {
   "cell_type": "code",
   "execution_count": 6,
   "metadata": {},
   "outputs": [],
   "source": [
    "test_group_1 = {\n",
    "    \"description\":\"this is a animal story about elephant\",\n",
    "    \"child\":child_1\n",
    "}\n",
    "test_group_2 = {\n",
    "    \"description\":\"Information of Emma, a student in NYCU\",\n",
    "    \"child\":child_2\n",
    "}"
   ]
  },
  {
   "cell_type": "code",
   "execution_count": 7,
   "metadata": {},
   "outputs": [],
   "source": [
    "L.add_group_memory(test_group_1)"
   ]
  },
  {
   "cell_type": "code",
   "execution_count": 8,
   "metadata": {},
   "outputs": [],
   "source": [
    "L.add_group_memory(test_group_2)"
   ]
  },
  {
   "cell_type": "code",
   "execution_count": 9,
   "metadata": {},
   "outputs": [
    {
     "data": {
      "text/plain": [
       "('Information of Emma, a student in NYCU',\n",
       " [Object(uuid=_WeaviateUUIDInt('38d91879-9a74-4f47-8269-119f7c5f6fb4'), metadata=MetadataReturn(creation_time=None, last_update_time=None, distance=0.5070127248764038, certainty=None, score=None, explain_score=None, is_consistent=None, rerank_score=None), properties={'text': 'Emma studies at NYCU', 'time': None}, references=None, vector={}, collection='Deafult_long_memory_child'),\n",
       "  Object(uuid=_WeaviateUUIDInt('7145df27-992e-4ce7-bb53-11329edf000e'), metadata=MetadataReturn(creation_time=None, last_update_time=None, distance=0.7743688821792603, certainty=None, score=None, explain_score=None, is_consistent=None, rerank_score=None), properties={'text': \"she learns deep-learning for her master's degree\", 'time': None}, references=None, vector={}, collection='Deafult_long_memory_child')],\n",
       " [Object(uuid=_WeaviateUUIDInt('5ffca72a-20d1-439e-865c-8377d1343f02'), metadata=MetadataReturn(creation_time=None, last_update_time=None, distance=0.9353224039077759, certainty=None, score=None, explain_score=None, is_consistent=None, rerank_score=None), properties={'text': 'this is a animal story about elephant'}, references=None, vector={}, collection='Deafult_long_memory_group')])"
      ]
     },
     "execution_count": 9,
     "metadata": {},
     "output_type": "execute_result"
    }
   ],
   "source": [
    "L.get_relevant_memory(\"NYCU student\")"
   ]
  },
  {
   "cell_type": "markdown",
   "metadata": {},
   "source": [
    "Data prepare"
   ]
  },
  {
   "cell_type": "code",
   "execution_count": 2,
   "metadata": {},
   "outputs": [
    {
     "name": "stdout",
     "output_type": "stream",
     "text": [
      "Detect existed deafult user group memory space, loading...\n",
      "Detect existed deafult user child memory space, loading...\n"
     ]
    }
   ],
   "source": [
    "from component import WeaviateLongMemory\n",
    "L = WeaviateLongMemory()"
   ]
  },
  {
   "cell_type": "code",
   "execution_count": 5,
   "metadata": {},
   "outputs": [
    {
     "name": "stdout",
     "output_type": "stream",
     "text": [
      "Detect empty group memory, create memory space...\n",
      "Detect empty child memory, create memory space...\n"
     ]
    }
   ],
   "source": [
    "L.del_all_memory()"
   ]
  },
  {
   "cell_type": "code",
   "execution_count": 6,
   "metadata": {},
   "outputs": [],
   "source": [
    "s = \"A is assistant, B is user\"\n",
    "\n",
    "f = [{'A': 'Hi! How are you doing tonight?'},\n",
    "   {'B': \"I'm doing great. Just relaxing with my two dogs.\"},\n",
    "   {'A': 'Great. In my spare time I do volunteer work.'},\n",
    "   {'B': \"That's neat. What kind of volunteer work do you do?\"},\n",
    "   {'A': 'I work in a homeless shelter in my town.'},\n",
    "   {'B': \"Good for you. Do you like vintage cars? I've two older mustangs.\"},\n",
    "   {'A': 'Cool. Not really into cars. My day job is wrestling.'},\n",
    "   {'B': 'Cars are my thing. Vintage cars. I love working on them. Wrestling? Do you enjoy it?'},\n",
    "   {'A': 'Yes, I love the crowds, getting to know people.'},\n",
    "   {'B': \"I didn't think about the crowd aspect of wrestling. I do not like crowds.\"},\n",
    "   {'A': 'Understood. When I need to be alone, I work out a few times each week.'},\n",
    "   {'B': 'I agree. Working out is a great way to burn off steam. Do you like country music?'},\n",
    "   {'A': 'A little bit. I can get into taylor swift.'},\n",
    "   {'B': \"Lol. She's more pop now. Her old stuff was country. I like classic country.\"},\n",
    "   {'A': 'What kind of dogs do you have?'},\n",
    "   {'B': 'One is a terrier and one is a sheep dog.   How long have you been volunteering?'},\n",
    "   {'A': 'I have been volunteering for last 7 years'},\n",
    "   {'B': \"Nice.  I try to, but I've been working on the two Mustangs.  One is a 68 and the other is a 66 Hertz clone.\"},\n",
    "   {'A': 'What are doing with those two?'},\n",
    "   {'B': \"The 68 is a daily driver, at least during the summer.  The Hertz clone is a trailer queen.  I'm too afraid of paying for on  the road insurance.   \"},\n",
    "   {'A': 'How long have you been doing this?'},\n",
    "   {'B': \"Ummmm, off and on, since 1989.  It's a hobby that takes a lot of devotion.  It can be expensive, but it doesn't always have to be.\"},\n",
    "   {'A': 'This sounds fun. Do you have any other hobby?'},\n",
    "   {'B': 'Well I do like to listen to classic country, and I do have my two dogs, \"Baron Zemo\" and \"Spike.\"   What about you, how do you like wrestling as your day job?'},\n",
    "   {'A': \"I'm not super into wrestling. \"},\n",
    "   {'B': \"Ah, now that makes sense.  I guess it's like an engineer that doesn't like to fix stuff around the house.  Well, work is work, I guess.\"},\n",
    "   {'A': \"How's work on the Mustang coming?\"},\n",
    "   {'B': \"Not so good, I got bit by one of my dogs and needed stiches in my hand so haven't been able to make much progress.\"},\n",
    "   {'A': \"I'm so sorry to hear that! How on earth did that happen?\"},\n",
    "   {'B': 'Just a little rough housing that went a bit too far.  '},\n",
    "   {'A': \"That's unfortunate. I'm hoping you'll make a speedy recovery! What's your day job?\"},\n",
    "   {'B': \"I'm a dog trainer!  I guess I'm not that good\"},\n",
    "   {'A': \"Haha well I suppose no one is perfect. Given my recent string of lost matches, I can't say I'm doing much better.\"},\n",
    "   {'B': 'Yeah between the both of us, could probably get a country song written about our distresses...perhaps Taylor Swift could perform it.'},\n",
    "   {'A': \"That would be a chart-topper, I'm sure. Something to blast while driving with the top down, maybe even in your next restoration project.\"},\n",
    "   {'B': \"Yes!! Can't wait to get back in the saddle with the restoration.  One of the one's I am working on is a convertible.\"},\n",
    "   {'A': \"Sweet! I'm sure that will be an amazing ride once it's finished. How long does a project take to complete, generally speaking?\"},\n",
    "   {'B': 'For me, I can usually do a full restoration in 6 months if I put in a few hours a day after work.'},\n",
    "   {'A': 'Did you take your dogs out for a walk today?'},\n",
    "   {'B': \"Yes! Thankfully there was enough of a break in the rain to run them around. How's your day been?\"},\n",
    "   {'A': 'It has been busy! I volunteered at the homeless shelter this morning. Do you do any volunteering? '},\n",
    "   {'B': 'Sadly not. I admire those who do though! Work keeps me so busy, and then I spent time on my car to relax. How did you get into wrestling as a job?'},\n",
    "   {'A': 'I work out a few times a week and a trainer came over and asked if I was interested in wrestling and gave it a go! Have you ever wrestled? '},\n",
    "   {'B': \"No I haven't, I think I'd be terrible at it! Does it take you a long time to recover? It looks so physical and exhuasting!\"},\n",
    "   {'A': 'No different in my opinion then working out at the gym, keeps your mind focused! You should try it sometime, I think you would like wrestling!'},\n",
    "   {'B': \"I can definitely see how it would be cathartic, although I'm so worried about getting my ass whooped I'm sure I'd be terrible. But it's all about working up a sweat, right?\"},\n",
    "   {'A': 'Yes, getting beat is not a highlight but makes you want to train even harder! And working up a sweat is no joke! Ha ha. '},\n",
    "   {'B': \"I definitely respect the mental stamina needed, too. I could learn some more of that, sometimes working on my car gets me so frustrated I can't stand it, ha!\"},\n",
    "   {'A': \"I can see that. I have attempted to work on cars, I don't have the patience for it! I need to keep moving!\"},\n",
    "   {'B': \"It's definitely an acquired thing. The word needs mechanics and wrestlers, ha!\"}]"
   ]
  },
  {
   "cell_type": "code",
   "execution_count": 7,
   "metadata": {},
   "outputs": [],
   "source": [
    "st = f\"{s}\\n{f}\""
   ]
  },
  {
   "cell_type": "code",
   "execution_count": 8,
   "metadata": {},
   "outputs": [],
   "source": [
    "L.add_chat_logs(st)"
   ]
  },
  {
   "cell_type": "code",
   "execution_count": 4,
   "metadata": {},
   "outputs": [],
   "source": [
    "res = L.get_relevant_memory(\"How long has the assistant been volunteering at the homeless shelter?\")"
   ]
  },
  {
   "cell_type": "code",
   "execution_count": 5,
   "metadata": {},
   "outputs": [
    {
     "name": "stdout",
     "output_type": "stream",
     "text": [
      "{\n",
      "    \"closest_summary\": \"Assistant discusses wrestling and user shares their challenges with pet training and car restoration.\",\n",
      "    \"similar_snippets\": [\n",
      "        \"assistant:How did you get into wrestling as a job?, user:I think I'd be terrible at it! Does it take you a long time to recover?\",\n",
      "        \"assistant:My day job is wrestling., user:Wrestling? Do you enjoy it?\",\n",
      "        \"assistant:How's work on the Mustang coming?, user:Not so good, I got bit by one of my dogs.\",\n",
      "        \"assistant:This sounds fun. Do you have any other hobby?, user:I do like to listen to classic country.\",\n",
      "        \"assistant:I'm so sorry to hear that! How on earth did that happen?, user:Just a little rough housing that went a bit too far.\"\n",
      "    ],\n",
      "    \"related_summaries\": [\n",
      "        {\n",
      "            \"id\": \"5b2d5015-ec93-43fa-b2c7-c0b4e969c2b4\",\n",
      "            \"text\": \"User shares about their relaxation time with dogs and interest in vintage cars.\"\n",
      "        },\n",
      "        {\n",
      "            \"id\": \"71ac85bc-84a2-47ed-83c4-0235ea449b2d\",\n",
      "            \"text\": \"Conversation about hobbies including cars and wrestling; both explore personal interests.\"\n",
      "        }\n",
      "    ]\n",
      "}\n"
     ]
    }
   ],
   "source": [
    "import json\n",
    "print(json.dumps(res, indent=4))"
   ]
  },
  {
   "cell_type": "code",
   "execution_count": 9,
   "metadata": {},
   "outputs": [
    {
     "name": "stdout",
     "output_type": "stream",
     "text": [
      "{'id': '4d201b41-ae5c-4bd0-841b-ea5de01a10cd', 'text': 'User has two dogs and is busy restoring vintage Mustangs, while assistant volunteers in a homeless shelter and wrestles.'}\n"
     ]
    }
   ],
   "source": [
    "L.show_all_groups()"
   ]
  },
  {
   "cell_type": "markdown",
   "metadata": {},
   "source": [
    "Recall stage"
   ]
  },
  {
   "cell_type": "code",
   "execution_count": 1,
   "metadata": {},
   "outputs": [
    {
     "name": "stdout",
     "output_type": "stream",
     "text": [
      "Detect existed deafult user group memory space, loading...\n",
      "Detect existed deafult user child memory space, loading...\n"
     ]
    }
   ],
   "source": [
    "from dotenv import load_dotenv\n",
    "from openai import OpenAI\n",
    "import os\n",
    "\n",
    "load_dotenv()\n",
    "client = OpenAI(api_key=os.getenv(\"OPENAI_API_KEY\"))\n",
    "\n",
    "from component import WeaviateLongMemory\n",
    "L = WeaviateLongMemory()"
   ]
  },
  {
   "cell_type": "code",
   "execution_count": 2,
   "metadata": {},
   "outputs": [],
   "source": [
    "def llm_create(prompt):\n",
    "        messages = [{\"role\": \"user\", \"content\": prompt}]\n",
    "        completion = client.chat.completions.create(\n",
    "            model=\"gpt-4o-mini\",\n",
    "            messages=messages,\n",
    "        )\n",
    "        return completion.choices[0].message.content"
   ]
  },
  {
   "cell_type": "code",
   "execution_count": 5,
   "metadata": {},
   "outputs": [],
   "source": [
    "from prompt import recursive_search\n",
    "\n",
    "query = \"How long has the assistant been volunteering at the homeless shelter?\"\n",
    "search_info = res\n",
    "history = {\n",
    "    \"search times\":0,\n",
    "    \"used queries\":[],\n",
    "    \"searched memory\":[],\n",
    "    \"thought\":'',\n",
    "    \"evidence\":[]\n",
    "}\n",
    "\n",
    "p = recursive_search.format(query=query, search_info=search_info, search_history=history)"
   ]
  },
  {
   "cell_type": "code",
   "execution_count": 6,
   "metadata": {},
   "outputs": [],
   "source": [
    "res = llm_create(p)"
   ]
  },
  {
   "cell_type": "code",
   "execution_count": 7,
   "metadata": {},
   "outputs": [
    {
     "name": "stdout",
     "output_type": "stream",
     "text": [
      "```json\n",
      "{\n",
      "    \"action\": \"jump\",\n",
      "    \"id\": \"5b2d5015-ec93-43fa-b2c7-c0b4e969c2b4\",\n",
      "    \"think\": \"The user might share information related to their volunteer experiences, possibly including time spent at the homeless shelter.\",\n",
      "    \"evidence\": []\n",
      "}\n",
      "```\n"
     ]
    }
   ],
   "source": [
    "print(res)"
   ]
  },
  {
   "cell_type": "code",
   "execution_count": 7,
   "metadata": {},
   "outputs": [],
   "source": [
    "import re\n",
    "import json\n",
    "import copy\n",
    "from prompt import recursive_search, search_history\n",
    "\n",
    "search_records = []\n",
    "\n",
    "query = \"Why did the user stop working on their Mustang for a while?\"\n",
    "object_id = \"\"\n",
    "history = copy.deepcopy(search_history)\n",
    "for i in range(4):\n",
    "    retrieve_result = L.get_relevant_memory(query, object_id)\n",
    "    p = recursive_search.format(query=query, search_info=retrieve_result, search_history=history)\n",
    "    llm_res = llm_create(p)\n",
    "    res_dict = json.loads(re.search(r\"```json(.*?)```\", llm_res, re.DOTALL).group(1).strip())\n",
    "    \n",
    "    # update search_history\n",
    "    history['search times']+=1\n",
    "    if query not in history['used queries']:\n",
    "        history['used queries'].append(query)\n",
    "    if retrieve_result[\"closest_summary\"] not in history['searched memory']:\n",
    "        history['searched memory'].append(retrieve_result[\"closest_summary\"])\n",
    "    if res_dict.get('evidence'):\n",
    "        if type(res_dict.get('evidence'))==str:\n",
    "            history['evidence'].append(res_dict.get('evidence'))\n",
    "        else:\n",
    "            history['evidence'].extend(res_dict.get('evidence'))\n",
    "    history['thought'] = res_dict['think']\n",
    "    record = {\n",
    "        'search times':history['search times'],\n",
    "        'used query':query,\n",
    "        'searched memory':retrieve_result[\"closest_summary\"],\n",
    "        'thought':res_dict['think'],\n",
    "        'evdience':history.get('evidence')\n",
    "    }\n",
    "    search_records.append(record)\n",
    "    \n",
    "    action = res_dict['action']\n",
    "    if action=='end':\n",
    "        search_records.append({\n",
    "            \"end\":res_dict['reason']\n",
    "        })\n",
    "        break\n",
    "    elif action=='jump':\n",
    "        object_id = res_dict['id']\n",
    "    elif action=='retry':\n",
    "        query=res_dict.get('query')\n",
    "    else:\n",
    "        print(f'Action unknow:{action}')\n",
    "        print(json.dumps(res_dict, indent=4))\n",
    "        break\n",
    "    "
   ]
  },
  {
   "cell_type": "code",
   "execution_count": 8,
   "metadata": {},
   "outputs": [
    {
     "name": "stdout",
     "output_type": "stream",
     "text": [
      "{\n",
      "    \"search times\": 1,\n",
      "    \"used query\": \"Why did the user stop working on their Mustang for a while?\",\n",
      "    \"searched memory\": \"User has two dogs and is busy restoring vintage Mustangs, while assistant volunteers in a homeless shelter and wrestles.\",\n",
      "    \"thought\": \"The user stopped working on their Mustang temporarily due to an injury sustained from one of their dogs, which required stitches in their hand.\",\n",
      "    \"evdience\": [\n",
      "        \"user:Not so good, I got bit by one of my dogs and needed stitches in my hand.\"\n",
      "    ]\n",
      "}\n",
      "{\n",
      "    \"end\": \"sufficient\"\n",
      "}\n"
     ]
    }
   ],
   "source": [
    "for i in search_records:\n",
    "    print(json.dumps(i, indent=4))"
   ]
  }
 ],
 "metadata": {
  "kernelspec": {
   "display_name": "Python 3",
   "language": "python",
   "name": "python3"
  },
  "language_info": {
   "codemirror_mode": {
    "name": "ipython",
    "version": 3
   },
   "file_extension": ".py",
   "mimetype": "text/x-python",
   "name": "python",
   "nbconvert_exporter": "python",
   "pygments_lexer": "ipython3",
   "version": "3.10.12"
  }
 },
 "nbformat": 4,
 "nbformat_minor": 2
}
