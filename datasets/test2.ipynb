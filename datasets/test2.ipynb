{
 "cells": [
  {
   "cell_type": "code",
   "execution_count": 22,
   "metadata": {},
   "outputs": [],
   "source": [
    "import pandas as pd\n",
    "question_df = pd.read_json(\"eval_result_5.json\", lines=True)"
   ]
  },
  {
   "cell_type": "code",
   "execution_count": 23,
   "metadata": {},
   "outputs": [
    {
     "name": "stdout",
     "output_type": "stream",
     "text": [
      "2\n",
      "8\n",
      "12\n"
     ]
    }
   ],
   "source": [
    "print((question_df['short_sufficient'] == 'false').sum())\n",
    "print((question_df['long_sufficient'] == 'false').sum())\n",
    "print((question_df['long_recall_sufficient'] == 'false').sum())"
   ]
  },
  {
   "cell_type": "code",
   "execution_count": 24,
   "metadata": {},
   "outputs": [],
   "source": [
    "false_row = question_df[question_df['long_recall_sufficient'] == 'false']"
   ]
  },
  {
   "cell_type": "code",
   "execution_count": 25,
   "metadata": {},
   "outputs": [
    {
     "data": {
      "text/plain": [
       "Index([0, 6, 13, 15, 23, 27, 30, 34, 37, 38, 45, 49], dtype='int64')"
      ]
     },
     "execution_count": 25,
     "metadata": {},
     "output_type": "execute_result"
    }
   ],
   "source": [
    "false_row.index"
   ]
  },
  {
   "cell_type": "code",
   "execution_count": 26,
   "metadata": {},
   "outputs": [
    {
     "name": "stdout",
     "output_type": "stream",
     "text": [
      "Question: {'user': 'What was it that you helped me with during that winter storm?', 'assistant': 'You helped me dig my car out of the snow.'}\n",
      "Short memory: true\n",
      "{\n",
      "    \"retrieve_memory\": [\n",
      "        {\n",
      "            \"text\": \"user:I'm feeling great actually, especially after helping you carry your groceries to your car yesterday., assistant:Oh yes, thank you so much for helping me out! It was so kind of you.\",\n",
      "            \"time\": \"11/18 10:02\"\n",
      "        },\n",
      "        {\n",
      "            \"text\": \"user:It was my pleasure. It felt good to be able to help you. We are neighbors after all., assistant:Absolutely! I really appreciate your kindness. If you ever need any help with anything, don't hesitate to ask.\",\n",
      "            \"time\": \"11/18 10:03\"\n",
      "        },\n",
      "        {\n",
      "            \"text\": \"user:I appreciate that. I'm always here to lend a helping hand if you need it too., assistant:That's great to hear. You know, it reminds me of the time when my car got stuck in the snow and you helped me dig it out.\",\n",
      "            \"time\": \"11/18 10:04\"\n",
      "        },\n",
      "        {\n",
      "            \"text\": \"user:Oh yeah, I remember that. It was quite the winter storm that day., assistant:It definitely was. But I was so grateful that you were there to help. You're a great neighbor.\",\n",
      "            \"time\": \"11/18 10:05\"\n",
      "        },\n",
      "        {\n",
      "            \"text\": \"user:Speaking of gems, remember when I helped you carry your groceries a few months ago?, assistant:Oh yes, I was so grateful for your help. I had so many bags!\",\n",
      "            \"time\": \"11/18 10:10\"\n",
      "        }\n",
      "    ]\n",
      "}\n",
      "\n",
      "\n",
      "Long memory: true\n",
      "{\n",
      "    \"closest_summary\": \"User helped the assistant carry groceries to the car yesterday, emphasizing their friendly neighbor relationship.\",\n",
      "    \"similar_snippets\": [\n",
      "        \"user:Oh yeah, I remember that. It was quite the winter storm that day., assistant:It definitely was. But I was so grateful that you were there to help. You're a great neighbor.\",\n",
      "        \"user:I appreciate that. I'm always here to lend a helping hand if you need it too., assistant:That's great to hear. You know, it reminds me of the time when my car got stuck in the snow and you helped me dig it out.\",\n",
      "        \"user:I'm feeling great actually, especially after helping you carry your groceries to your car yesterday., assistant:Oh yes, thank you so much for helping me out! It was so kind of you.\",\n",
      "        \"user:Speaking of gems, remember when I helped you carry your groceries a few months ago?, assistant:Oh yes, I was so grateful for your help. I had so many bags!\",\n",
      "        \"user:It was my pleasure. It felt good to be able to help you. We are neighbors after all., assistant:Absolutely! I really appreciate your kindness. If you ever need any help with anything, don't hesitate to ask.\"\n",
      "    ],\n",
      "    \"related_summaries\": [\n",
      "        {\n",
      "            \"id\": \"a64b0321-fef5-49f0-9d07-6d0a6009afd2\",\n",
      "            \"text\": \"User thanked the assistant for their kindness and help in the neighborhood.\"\n",
      "        },\n",
      "        {\n",
      "            \"id\": \"9c2e2be4-f039-4bad-a18d-b5df920f04f1\",\n",
      "            \"text\": \"User and assistant discuss their helpfulness to each other as neighbors, recalling specific instances of assistance.\"\n",
      "        },\n",
      "        {\n",
      "            \"id\": \"dbb9219c-3f0a-46b2-98d1-23f7ddf1c250\",\n",
      "            \"text\": \"User expressed pleasure in helping neighbors and discussed a recent bike ride in the neighborhood on Saturday, November 18, 2024.\"\n",
      "        },\n",
      "        {\n",
      "            \"id\": \"ba0bbdba-91d0-4c2f-9b09-cd65ff1237ef\",\n",
      "            \"text\": \"User enjoyed riding bikes and offered to lend their extra bike to the assistant for a trial.\"\n",
      "        }\n",
      "    ]\n",
      "}\n",
      "\n",
      "\n",
      "Long recall memory: false\n",
      "{\n",
      "    \"search times\": 1,\n",
      "    \"used queries\": [\n",
      "        \"user:What was it that you helped me with during that winter storm?\"\n",
      "    ],\n",
      "    \"searched memory\": [\n",
      "        \"User helped the assistant carry groceries to the car yesterday, emphasizing their friendly neighbor relationship.\"\n",
      "    ],\n",
      "    \"thought\": \"I have found enough information about the assistance provided during the winter storm, as it involves neighborly help with groceries and other instances of collaboration.\",\n",
      "    \"evidence\": [\n",
      "        {\n",
      "            \"closest_summary\": \"User helped the assistant carry groceries to the car yesterday, emphasizing their friendly neighbor relationship.\"\n",
      "        },\n",
      "        {\n",
      "            \"user\": \"Oh yeah, I remember that. It was quite the winter storm that day.\",\n",
      "            \"assistant\": \"It definitely was. But I was so grateful that you were there to help. You're a great neighbor.\"\n",
      "        },\n",
      "        {\n",
      "            \"user\": \"I'm feeling great actually, especially after helping you carry your groceries to your car yesterday.\",\n",
      "            \"assistant\": \"Oh yes, thank you so much for helping me out! It was so kind of you.\"\n",
      "        }\n",
      "    ]\n",
      "}\n",
      "reason: The searched memory does not directly address the question about the user's assistance during the winter storm. It only mentions carrying groceries, which is a separate instance of help.\n"
     ]
    }
   ],
   "source": [
    "import json\n",
    "\n",
    "index = 0\n",
    "print(f\"Question: {question_df['question'][index]}\")\n",
    "print(f\"Short memory: {question_df['short_sufficient'][index]}\")\n",
    "print(json.dumps(eval(question_df['short_mem_result'][index]), indent=4, ensure_ascii=True))\n",
    "print(f\"\\n\\nLong memory: {question_df['long_sufficient'][index]}\")\n",
    "print(json.dumps(eval(question_df['long_mem_result'][index]), indent=4, ensure_ascii=True))\n",
    "print(f\"\\n\\nLong recall memory: {question_df['long_recall_sufficient'][index]}\")\n",
    "print(json.dumps(eval(question_df['long_mem_recall_result'][index]), indent=4, ensure_ascii=True))\n",
    "print(f\"reason: {question_df['long_recall_reason'][index]}\")"
   ]
  },
  {
   "cell_type": "code",
   "execution_count": 10,
   "metadata": {},
   "outputs": [
    {
     "name": "stdout",
     "output_type": "stream",
     "text": [
      "{'user': \"Hey, how's your day going so far?\", 'assistant': \"It's going okay, just got a lot of work to do. But I'm feeling a little better now that I talked to you.\", 'time': '2024-11-18T11:51:00Z'}\n",
      "{'user': \"That's good to hear. Is there anything in particular on your mind?\", 'assistant': 'Yeah, I just wanted to say that I really appreciate how trustworthy you are. You always come through for me and keep your promises.', 'time': '2024-11-18T11:52:00Z'}\n",
      "{'user': 'Of course, you can always count on me. Has there been any specific instance where you felt this way recently?', 'assistant': 'Well, when I was feeling really stressed about our finances last week, you told me not to worry and that you would take care of it. And sure enough, you did. It meant a lot to me.', 'time': '2024-11-18T11:53:00Z'}\n",
      "{'user': \"I'm glad I could help. And I want you to know that I will always be here for you, no matter what. We're in this together.\", 'assistant': \"That's why I love you so much. You're a true man of your word. And it's a quality that is hard to find these days.\", 'time': '2024-11-18T11:54:00Z'}\n",
      "{'user': \"Thank you, that means a lot to me. I know we've been through a lot together, but I promise to always be there for you. \", 'assistant': \"And I promise to always trust and believe in you. You make my life so much better, and I'm grateful for you every day.\", 'time': '2024-11-18T11:55:00Z'}\n"
     ]
    }
   ],
   "source": [
    "for i in eval(question_df['first_session_dialogue'][index]):\n",
    "    print(i)"
   ]
  }
 ],
 "metadata": {
  "kernelspec": {
   "display_name": "Python 3",
   "language": "python",
   "name": "python3"
  },
  "language_info": {
   "codemirror_mode": {
    "name": "ipython",
    "version": 3
   },
   "file_extension": ".py",
   "mimetype": "text/x-python",
   "name": "python",
   "nbconvert_exporter": "python",
   "pygments_lexer": "ipython3",
   "version": "3.10.12"
  }
 },
 "nbformat": 4,
 "nbformat_minor": 2
}
