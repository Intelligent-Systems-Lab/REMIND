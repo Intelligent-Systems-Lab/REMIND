{
 "cells": [
  {
   "cell_type": "code",
   "execution_count": 8,
   "metadata": {},
   "outputs": [],
   "source": [
    "import pandas as pd\n",
    "question_df = pd.read_json(\"eval_result_time.json\", lines=True)"
   ]
  },
  {
   "cell_type": "code",
   "execution_count": 9,
   "metadata": {},
   "outputs": [
    {
     "name": "stdout",
     "output_type": "stream",
     "text": [
      "50\n",
      "49\n",
      "46\n"
     ]
    }
   ],
   "source": [
    "print((question_df['short_sufficient'] == 'false').sum())\n",
    "print((question_df['long_sufficient'] == 'false').sum())\n",
    "print((question_df['long_recall_sufficient'] == 'false').sum())"
   ]
  },
  {
   "cell_type": "code",
   "execution_count": 10,
   "metadata": {},
   "outputs": [],
   "source": [
    "false_row = question_df[question_df['long_recall_sufficient'] == 'false']"
   ]
  },
  {
   "cell_type": "code",
   "execution_count": 11,
   "metadata": {},
   "outputs": [
    {
     "data": {
      "text/plain": [
       "Index([ 1,  2,  4,  5,  6,  7,  9, 10, 11, 12, 13, 14, 15, 16, 17, 18, 19, 20,\n",
       "       21, 22, 23, 24, 25, 26, 27, 28, 29, 31, 32, 33, 34, 35, 36, 37, 38, 39,\n",
       "       40, 41, 42, 43, 44, 45, 46, 47, 48, 49],\n",
       "      dtype='int64')"
      ]
     },
     "execution_count": 11,
     "metadata": {},
     "output_type": "execute_result"
    }
   ],
   "source": [
    "false_row.index"
   ]
  },
  {
   "cell_type": "code",
   "execution_count": 13,
   "metadata": {},
   "outputs": [
    {
     "name": "stdout",
     "output_type": "stream",
     "text": [
      "Question: {'user': \"It's been a while since our last family hike. Do you remember what fruit we found during our last adventure?\", 'assistant': 'We found some delicious berries while we were exploring!'}\n",
      "Short memory: false\n",
      "{\n",
      "    \"retrieve_memory\": []\n",
      "}\n",
      "\n",
      "\n",
      "Long memory: false\n",
      "{\n",
      "    \"closest_summary\": {\n",
      "        \"text\": \"User recalls helping the assistant with groceries a few months ago, with the assistant expressing gratitude.\",\n",
      "        \"time\": \"2024/09/22 12:04\"\n",
      "    },\n",
      "    \"similar_snippets\": [\n",
      "        {\n",
      "            \"text\": \"user:Speaking of gems, remember when I helped you carry your groceries a few months ago?, assistant:Oh yes, I was so grateful for your help. I had so many bags!\",\n",
      "            \"time\": \"2024/09/22 12:04\"\n",
      "        },\n",
      "        {\n",
      "            \"text\": \"user:It was truly my pleasure. I'm always happy to help out my neighbors., assistant:I really appreciated it. It's so nice to have such kind people living nearby.\",\n",
      "            \"time\": \"2024/09/22 12:05\"\n",
      "        }\n",
      "    ],\n",
      "    \"related_summaries\": [\n",
      "        {\n",
      "            \"id\": \"df6418f2-ac9e-484b-84cf-b6d831c94aad\",\n",
      "            \"text\": \"On November 20, 2024, user discussed biking and offered their extra bike to assistant. They reminisced about bike rides and a planned picnic at the park.\",\n",
      "            \"time\": \"2024/11/20 08:01\"\n",
      "        },\n",
      "        {\n",
      "            \"id\": \"96866340-a314-4a2a-b519-111b599473a2\",\n",
      "            \"text\": \"User and assistant discuss their neighborly support, recalling helping each other with groceries and digging out a car from snow.\",\n",
      "            \"time\": \"2024/11/20 14:01\"\n",
      "        },\n",
      "        {\n",
      "            \"id\": \"a4cfdd2e-9364-47d7-8adb-b1aa3cee9c45\",\n",
      "            \"text\": \"User returned to the neighborhood after living with grandparents who have since passed away, cherishing the supportive memories. The chat took place on October 6, 2022.\",\n",
      "            \"time\": \"2022/10/06 12:01\"\n",
      "        },\n",
      "        {\n",
      "            \"id\": \"d45e41d9-c5ec-474e-a7aa-a2ed48cc521e\",\n",
      "            \"text\": \"User looks at an interesting book the assistant recently picked up from the library, discussing the enjoyment of discovering new books.\",\n",
      "            \"time\": \"2024/09/22 12:01\"\n",
      "        }\n",
      "    ]\n",
      "}\n",
      "\n",
      "\n",
      "Long recall memory: false\n",
      "{\n",
      "    \"search times\": 4,\n",
      "    \"used queries\": [\n",
      "        \"user:It's been a while since our last family hike. Do you remember what fruit we found during our last adventure?\",\n",
      "        \"What did we find on our last family hike?\",\n",
      "        \"user: Can you recall any details about the last family hike? Maybe we found something unique?\"\n",
      "    ],\n",
      "    \"searched memory\": [\n",
      "        {\n",
      "            \"text\": \"User recalls helping the assistant with groceries a few months ago, with the assistant expressing gratitude.\",\n",
      "            \"time\": \"2024/09/22 12:04\"\n",
      "        },\n",
      "        {\n",
      "            \"text\": \"On November 20, 2024, user discussed biking and offered their extra bike to assistant. They reminisced about bike rides and a planned picnic at the park.\",\n",
      "            \"time\": \"2024/11/20 08:01\"\n",
      "        },\n",
      "        {\n",
      "            \"text\": \"User returned to the neighborhood after living with grandparents who have since passed away, cherishing the supportive memories. The chat took place on October 6, 2022.\",\n",
      "            \"time\": \"2022/10/06 12:01\"\n",
      "        }\n",
      "    ],\n",
      "    \"thought\": \"The previous search did not yield any specific details about the last family hike, and related memories from October 6, 2022, might provide insights into family activities that could be relevant to the user's query about their last hike.\",\n",
      "    \"evidence\": [\n",
      "        {\n",
      "            \"text\": \"User returned to the neighborhood after living with grandparents who have since passed away, cherishing the supportive memories.\",\n",
      "            \"time\": \"2022/10/06 12:01\"\n",
      "        }\n",
      "    ]\n",
      "}\n",
      "reason: The searched memory does not contain relevant information about the family hike or any details regarding the fruit found during that adventure.\n"
     ]
    }
   ],
   "source": [
    "import json\n",
    "\n",
    "index = 2\n",
    "print(f\"Question: {question_df['question'][index]}\")\n",
    "print(f\"Short memory: {question_df['short_sufficient'][index]}\")\n",
    "print(json.dumps(eval(question_df['short_mem_result'][index]), indent=4, ensure_ascii=True))\n",
    "print(f\"\\n\\nLong memory: {question_df['long_sufficient'][index]}\")\n",
    "print(json.dumps(eval(question_df['long_mem_result'][index]), indent=4, ensure_ascii=True))\n",
    "print(f\"\\n\\nLong recall memory: {question_df['long_recall_sufficient'][index]}\")\n",
    "print(json.dumps(eval(question_df['long_mem_recall_result'][index]), indent=4, ensure_ascii=True))\n",
    "print(f\"reason: {question_df['long_recall_reason'][index]}\")"
   ]
  },
  {
   "cell_type": "code",
   "execution_count": 39,
   "metadata": {},
   "outputs": [
    {
     "name": "stdout",
     "output_type": "stream",
     "text": [
      "{'user': 'Hey, did you get the car back from Neighbors A?', 'assistant': 'Yeah, he brought it back this morning.', 'time': '2024-11-18T20:52:00Z'}\n",
      "{'user': 'Did he fill up the gas tank like he promised?', 'assistant': \"No, he didn't. He said he was in a hurry and would fill it up later.\", 'time': '2024-11-18T20:53:00Z'}\n",
      "{'user': \"That's not cool. He should have filled it up before returning it. \", 'assistant': \"I know, but I didn't want to make a big deal out of it. It's just a few bucks.\", 'time': '2024-11-18T20:54:00Z'}\n",
      "{'user': \"I understand, but it's important to establish boundaries. You don't want him to keep taking advantage of you.\", 'assistant': \"You're right. Next time, I'll make sure to tell him to fill up the tank before borrowing the car.\", 'time': '2024-11-18T20:55:00Z'}\n",
      "{'user': \"Good idea. It's better to be upfront about these things. Remember when he borrowed your lawnmower and returned it damaged?\", 'assistant': 'Yeah, I do. I should have said something then. ', 'time': '2024-11-18T20:56:00Z'}\n",
      "{'user': \"Exactly. Don't let him walk all over you. Stand up for yourself and your property. \", 'assistant': 'Thanks for the advice. I appreciate it.', 'time': '2024-11-18T20:57:00Z'}\n"
     ]
    }
   ],
   "source": [
    "for i in eval(question_df['first_session_dialogue'][index]):\n",
    "    print(i)"
   ]
  }
 ],
 "metadata": {
  "kernelspec": {
   "display_name": "Python 3",
   "language": "python",
   "name": "python3"
  },
  "language_info": {
   "codemirror_mode": {
    "name": "ipython",
    "version": 3
   },
   "file_extension": ".py",
   "mimetype": "text/x-python",
   "name": "python",
   "nbconvert_exporter": "python",
   "pygments_lexer": "ipython3",
   "version": "3.10.12"
  }
 },
 "nbformat": 4,
 "nbformat_minor": 2
}
