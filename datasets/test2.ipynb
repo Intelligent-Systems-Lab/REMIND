{
 "cells": [
  {
   "cell_type": "code",
   "execution_count": 14,
   "metadata": {},
   "outputs": [],
   "source": [
    "import pandas as pd\n",
    "question_df = pd.read_json(\"eval_result_time.json\", lines=True)"
   ]
  },
  {
   "cell_type": "code",
   "execution_count": 15,
   "metadata": {},
   "outputs": [
    {
     "name": "stdout",
     "output_type": "stream",
     "text": [
      "11\n",
      "9\n",
      "7\n"
     ]
    }
   ],
   "source": [
    "print((question_df['short_sufficient'] == 'false').sum())\n",
    "print((question_df['long_sufficient'] == 'false').sum())\n",
    "print((question_df['long_recall_sufficient'] == 'false').sum())"
   ]
  },
  {
   "cell_type": "code",
   "execution_count": 16,
   "metadata": {},
   "outputs": [],
   "source": [
    "false_row = question_df[question_df['long_recall_sufficient'] == 'false']"
   ]
  },
  {
   "cell_type": "code",
   "execution_count": 17,
   "metadata": {},
   "outputs": [
    {
     "data": {
      "text/plain": [
       "Index([2, 17, 30, 48, 75, 83, 96], dtype='int64')"
      ]
     },
     "execution_count": 17,
     "metadata": {},
     "output_type": "execute_result"
    }
   ],
   "source": [
    "false_row.index"
   ]
  },
  {
   "cell_type": "code",
   "execution_count": 18,
   "metadata": {},
   "outputs": [
    {
     "name": "stdout",
     "output_type": "stream",
     "text": [
      "Question: {'user': \"It's been a while since our last family hike. Do you remember what fruit we found during our last adventure?\", 'assistant': 'We found some delicious berries while we were exploring!'}\n",
      "Short memory: true\n",
      "{\n",
      "    \"retrieve_memory\": [\n",
      "        {\n",
      "            \"text\": \"user:Today's hike was so much fun! I loved exploring the woods with you and the kids., assistant:Yeah, it was awesome! I loved climbing the trees and finding all the berries.\",\n",
      "            \"time\": \"10/06 12:01\"\n",
      "        },\n",
      "        {\n",
      "            \"text\": \"user:Thanks, sweetie. I think it's important to keep learning and expanding your knowledge., assistant:I agree. Remember when we went on that hike a couple of years ago and you taught us about all the different plants and animals we saw?\",\n",
      "            \"time\": \"10/06 12:03\"\n",
      "        },\n",
      "        {\n",
      "            \"text\": \"user:We used to go on hikes and explore the woods together. It was always so much fun., assistant:Like the time we went hiking and picked berries?\",\n",
      "            \"time\": \"10/06 12:04\"\n",
      "        },\n",
      "        {\n",
      "            \"text\": \"user:Yes, exactly like that. We used to climb trees and build forts too., assistant:I loved that hike. Do you have any other memories like that?\",\n",
      "            \"time\": \"10/06 12:05\"\n",
      "        },\n",
      "        {\n",
      "            \"text\": \"user: Yeah, that was so much fun! Remember when we found that cool tree to climb?, assistant: I sure do. It's always nice to get out in nature and spend time exploring with family.\",\n",
      "            \"time\": \"11/15 12:04\"\n",
      "        }\n",
      "    ]\n",
      "}\n",
      "\n",
      "\n",
      "Long memory: false\n",
      "{\n",
      "    \"closest_summary\": {\n",
      "        \"text\": \"User and assistant reminisce about a fun hike from a few years ago, discussing memories of climbing a tree and exploring trails.\",\n",
      "        \"time\": \"2024/11/15 12:03\"\n",
      "    },\n",
      "    \"similar_snippets\": [\n",
      "        {\n",
      "            \"text\": \"user: That's a good idea. I'll talk to your other parent about it and see if we can come up with a plan., assistant: Remember that hike we went on a few years ago through the woods?\",\n",
      "            \"time\": \"2024/11/15 12:03\"\n",
      "        },\n",
      "        {\n",
      "            \"text\": \"user: Yeah, that was so much fun! Remember when we found that cool tree to climb?, assistant: I sure do. It's always nice to get out in nature and spend time exploring with family.\",\n",
      "            \"time\": \"2024/11/15 12:04\"\n",
      "        },\n",
      "        {\n",
      "            \"text\": \"user: It was cool finding all those different trails too. I don't remember getting lost or anything., assistant: That's because we were careful to stay on the trail and we brought a map. It's important to always be prepared for anything when you're out in nature.\",\n",
      "            \"time\": \"2024/11/15 12:05\"\n",
      "        }\n",
      "    ],\n",
      "    \"related_summaries\": [\n",
      "        {\n",
      "            \"id\": \"945c4944-90d3-434f-b215-a554d37272b6\",\n",
      "            \"text\": \"User and assistant enjoyed a hike in the woods on October 6, 2022, with family, appreciating nature and each other's company.\",\n",
      "            \"time\": \"2022/10/06 12:01\"\n",
      "        },\n",
      "        {\n",
      "            \"id\": \"74ecae46-d826-4405-9386-05ebfb9fcce8\",\n",
      "            \"text\": \"User won a trivia contest on 2022-10-06 and feels proud of their knowledge; they also reminisced about a hike where they taught about nature and safety.\",\n",
      "            \"time\": \"2022/10/06 12:01\"\n",
      "        },\n",
      "        {\n",
      "            \"id\": \"22dc2f15-e7b2-4d14-ad97-d88d3d091099\",\n",
      "            \"text\": \"User reflected on moving in with grandparents after parents died in an accident, shared fond memories of family activities like hiking and fishing.\",\n",
      "            \"time\": \"2022/10/06 12:01\"\n",
      "        },\n",
      "        {\n",
      "            \"id\": \"3a99134a-5950-4bee-bf21-f31efb1a3635\",\n",
      "            \"text\": \"User expresses frustration about taking out the trash daily and suggests discussing a fair system with another parent.\",\n",
      "            \"time\": \"2024/11/15 12:01\"\n",
      "        }\n",
      "    ]\n",
      "}\n",
      "\n",
      "\n",
      "Long recall memory: false\n",
      "{\n",
      "    \"search times\": 4,\n",
      "    \"used queries\": [\n",
      "        \"user:It's been a while since our last family hike. Do you remember what fruit we found during our last adventure?\",\n",
      "        \"user:What kind of berries did we find during our last family hike?\",\n",
      "        \"user:What types of berries did we find during our hike in October 2022?\"\n",
      "    ],\n",
      "    \"searched memory\": [\n",
      "        {\n",
      "            \"text\": \"User and assistant reminisce about a fun hike from a few years ago, discussing memories of climbing a tree and exploring trails.\",\n",
      "            \"time\": \"2024/11/15 12:03\"\n",
      "        },\n",
      "        {\n",
      "            \"text\": \"User and assistant enjoyed a hike in the woods on October 6, 2022, with family, appreciating nature and each other's company.\",\n",
      "            \"time\": \"2022/10/06 12:01\"\n",
      "        }\n",
      "    ],\n",
      "    \"thought\": \"I hope to gather more specific details about the types of berries encountered during the hike.\",\n",
      "    \"evidence\": []\n",
      "}\n",
      "reason: The searched memory does not provide specific information about the type of fruit or berries found during the family hike; it only discusses the hike in general terms without mentioning any specific fruit.\n"
     ]
    }
   ],
   "source": [
    "import json\n",
    "\n",
    "index = 2\n",
    "print(f\"Question: {question_df['question'][index]}\")\n",
    "print(f\"Short memory: {question_df['short_sufficient'][index]}\")\n",
    "print(json.dumps(eval(question_df['short_mem_result'][index]), indent=4, ensure_ascii=True))\n",
    "print(f\"\\n\\nLong memory: {question_df['long_sufficient'][index]}\")\n",
    "print(json.dumps(eval(question_df['long_mem_result'][index]), indent=4, ensure_ascii=True))\n",
    "print(f\"\\n\\nLong recall memory: {question_df['long_recall_sufficient'][index]}\")\n",
    "print(json.dumps(eval(question_df['long_mem_recall_result'][index]), indent=4, ensure_ascii=True))\n",
    "print(f\"reason: {question_df['long_recall_reason'][index]}\")"
   ]
  },
  {
   "cell_type": "code",
   "execution_count": null,
   "metadata": {},
   "outputs": [
    {
     "name": "stdout",
     "output_type": "stream",
     "text": [
      "{'user': \"I'm so sick of having to take out the trash every single day. It's not fair.\", 'assistant': \"Why don't you ask me to help you?\", 'time': '2024-11-20T14:01:00Z'}\n",
      "{'user': \"Well, you're always so busy with school and your activities, I don't want to add on to your workload.\", 'assistant': \"But you always tell me that it's important to help out around the house. I can definitely take on the responsibility of taking out the trash some days.\", 'time': '2024-11-20T14:02:00Z'}\n",
      "{'user': \"You know what, you're right. I shouldn't assume that you don't have the time to help. Thank you for offering to assist.\", 'assistant': \"No problem! I'm glad I can help ease your workload. Plus, it's our home too, and we should all contribute to keeping it clean and tidy.\", 'time': '2024-11-20T14:03:00Z'}\n",
      "{'user': \"That's a great point. And it's also important to communicate our frustrations instead of holding it in and feeling resentful.\", 'assistant': \"Definitely. I'm just happy we were able to talk it out and come up with a solution.\", 'time': '2024-11-20T14:04:00Z'}\n"
     ]
    }
   ],
   "source": [
    "for i in eval(question_df['first_session_dialogue'][index]):\n",
    "    print(i)"
   ]
  }
 ],
 "metadata": {
  "kernelspec": {
   "display_name": "Python 3",
   "language": "python",
   "name": "python3"
  },
  "language_info": {
   "codemirror_mode": {
    "name": "ipython",
    "version": 3
   },
   "file_extension": ".py",
   "mimetype": "text/x-python",
   "name": "python",
   "nbconvert_exporter": "python",
   "pygments_lexer": "ipython3",
   "version": "3.10.12"
  }
 },
 "nbformat": 4,
 "nbformat_minor": 2
}
