{
 "cells": [
  {
   "cell_type": "code",
   "execution_count": 11,
   "metadata": {},
   "outputs": [],
   "source": [
    "from rouge_score import rouge_scorer\n",
    "\n",
    "scorer = rouge_scorer.RougeScorer(['rougeL'], use_stemmer=True)\n",
    "\n",
    "def evaluate(col, score_df, answer=False):\n",
    "    if answer:\n",
    "        res = \"answer\"\n",
    "    else:\n",
    "        res = \"result\"\n",
    "    def f1(row):\n",
    "        scores = scorer.score(row['gold_answer'], row[f'{col}_{res}'])\n",
    "        return scores['rougeL'].fmeasure\n",
    "    def rc(row):\n",
    "        scores = scorer.score(row['gold_answer'], row[f'{col}_{res}'])\n",
    "        return scores['rougeL'].recall\n",
    "    def pre(row):\n",
    "        scores = scorer.score(row['gold_answer'], row[f'{col}_{res}'])\n",
    "        return scores['rougeL'].precision\n",
    "    score_df[f'{col}_f1'] = score_df.apply(f1, axis=1)\n",
    "    score_df[f'{col}_rc'] = score_df.apply(rc, axis=1)\n",
    "    score_df[f'{col}_pre'] = score_df.apply(pre, axis=1)"
   ]
  },
  {
   "cell_type": "markdown",
   "metadata": {},
   "source": [
    "Long memory score"
   ]
  },
  {
   "cell_type": "code",
   "execution_count": null,
   "metadata": {},
   "outputs": [],
   "source": [
    "import pandas as pd\n",
    "\n",
    "number = 100\n",
    "answer_df = pd.read_json(\"MSC_eval_0117.json\", lines=True)\n",
    "# answer_df = pd.read_json(\"MSC_score_v1.json\", lines=True)\n",
    "score_df = answer_df[:number]\n",
    "evaluate('long_mem', score_df)\n",
    "evaluate('long_mem_recall', score_df)"
   ]
  },
  {
   "cell_type": "code",
   "execution_count": 13,
   "metadata": {},
   "outputs": [
    {
     "name": "stdout",
     "output_type": "stream",
     "text": [
      "long_mem_f1     0.018658\n",
      "long_mem_rc     0.732957\n",
      "long_mem_pre    0.009545\n",
      "dtype: float64\n",
      "long_mem_recall_f1     0.045314\n",
      "long_mem_recall_rc     0.790497\n",
      "long_mem_recall_pre    0.023830\n",
      "dtype: float64\n"
     ]
    }
   ],
   "source": [
    "\n",
    "long_mem_means = score_df[['long_mem_f1', 'long_mem_rc', 'long_mem_pre']].mean()\n",
    "long_mem_recall_means = score_df[['long_mem_recall_f1', 'long_mem_recall_rc', 'long_mem_recall_pre']].mean()\n",
    "print(long_mem_means)\n",
    "print(long_mem_recall_means)"
   ]
  },
  {
   "cell_type": "code",
   "execution_count": null,
   "metadata": {},
   "outputs": [],
   "source": [
    "score_df.to_json(\"MSC_score.json\")"
   ]
  },
  {
   "cell_type": "markdown",
   "metadata": {},
   "source": [
    "Short memory score"
   ]
  },
  {
   "cell_type": "code",
   "execution_count": 8,
   "metadata": {},
   "outputs": [],
   "source": [
    "import pandas as pd\n",
    "\n",
    "number = 100\n",
    "answer_df = pd.read_json(\"s_MSC_eval.json\", lines=True)\n",
    "# answer_df = pd.read_json(\"s_MSC_score_v1.json\", lines=True)\n",
    "score_df = answer_df[:number]\n",
    "evaluate('short_mem', score_df)"
   ]
  },
  {
   "cell_type": "code",
   "execution_count": 13,
   "metadata": {},
   "outputs": [
    {
     "name": "stdout",
     "output_type": "stream",
     "text": [
      "short_mem_f1     0.031041\n",
      "short_mem_rc     0.810377\n",
      "short_mem_pre    0.016103\n",
      "dtype: float64\n"
     ]
    }
   ],
   "source": [
    "short_mem_means = score_df[['short_mem_f1', 'short_mem_rc', 'short_mem_pre']].mean()\n",
    "print(short_mem_means)"
   ]
  },
  {
   "cell_type": "code",
   "execution_count": null,
   "metadata": {},
   "outputs": [],
   "source": [
    "score_df.to_json(\"s_MSC_score.json\")"
   ]
  }
 ],
 "metadata": {
  "kernelspec": {
   "display_name": "Python 3",
   "language": "python",
   "name": "python3"
  },
  "language_info": {
   "codemirror_mode": {
    "name": "ipython",
    "version": 3
   },
   "file_extension": ".py",
   "mimetype": "text/x-python",
   "name": "python",
   "nbconvert_exporter": "python",
   "pygments_lexer": "ipython3",
   "version": "3.10.12"
  }
 },
 "nbformat": 4,
 "nbformat_minor": 2
}
