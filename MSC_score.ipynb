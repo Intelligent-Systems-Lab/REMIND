{
 "cells": [
  {
   "cell_type": "code",
   "execution_count": 2,
   "metadata": {},
   "outputs": [],
   "source": [
    "from rouge_score import rouge_scorer\n",
    "\n",
    "scorer = rouge_scorer.RougeScorer(['rougeL'], use_stemmer=True)\n",
    "\n",
    "def evaluate(col, score_df, answer=False):\n",
    "    if answer:\n",
    "        res = \"answer\"\n",
    "    else:\n",
    "        res = \"result\"\n",
    "    def f1(row):\n",
    "        scores = scorer.score(row['gold_answer'], row[f'{col}_{res}'])\n",
    "        return scores['rougeL'].fmeasure\n",
    "    def rc(row):\n",
    "        scores = scorer.score(row['gold_answer'], row[f'{col}_{res}'])\n",
    "        return scores['rougeL'].recall\n",
    "    def pre(row):\n",
    "        scores = scorer.score(row['gold_answer'], row[f'{col}_{res}'])\n",
    "        return scores['rougeL'].precision\n",
    "    score_df[f'{col}_f1'] = score_df.apply(f1, axis=1)\n",
    "    score_df[f'{col}_rc'] = score_df.apply(rc, axis=1)\n",
    "    score_df[f'{col}_pre'] = score_df.apply(pre, axis=1)"
   ]
  },
  {
   "cell_type": "markdown",
   "metadata": {},
   "source": [
    "Long memory score"
   ]
  },
  {
   "cell_type": "code",
   "execution_count": 53,
   "metadata": {},
   "outputs": [],
   "source": [
    "import pandas as pd\n",
    "\n",
    "number = 500\n",
    "answer_df = pd.read_json(\"MSC_eval.json\", lines=True)\n",
    "# answer_df = pd.read_json(\"MSC_score_v1.json\", lines=True)\n",
    "score_df = answer_df[:number]"
   ]
  },
  {
   "cell_type": "code",
   "execution_count": 54,
   "metadata": {},
   "outputs": [
    {
     "name": "stdout",
     "output_type": "stream",
     "text": [
      "long_mem_f1     0.020026\n",
      "long_mem_rc     0.800223\n",
      "long_mem_pre    0.010229\n",
      "dtype: float64\n",
      "long_mem_recall_f1     0.048902\n",
      "long_mem_recall_rc     0.764312\n",
      "long_mem_recall_pre    0.025730\n",
      "dtype: float64\n"
     ]
    }
   ],
   "source": [
    "answer=False\n",
    "evaluate('long_mem', score_df, answer=answer)\n",
    "evaluate('long_mem_recall', score_df, answer=answer)\n",
    "long_mem_means = score_df[['long_mem_f1', 'long_mem_rc', 'long_mem_pre']].mean()\n",
    "long_mem_recall_means = score_df[['long_mem_recall_f1', 'long_mem_recall_rc', 'long_mem_recall_pre']].mean()\n",
    "print(long_mem_means)\n",
    "print(long_mem_recall_means)"
   ]
  },
  {
   "cell_type": "code",
   "execution_count": 4,
   "metadata": {},
   "outputs": [
    {
     "data": {
      "image/png": "[encoded data removed]",
      "text/plain": [
       "<Figure size 600x300 with 1 Axes>"
      ]
     },
     "metadata": {},
     "output_type": "display_data"
    }
   ],
   "source": [
    "import seaborn as sns\n",
    "import matplotlib.pyplot as plt\n",
    "\n",
    "columns = ['long_mem_rc', 'long_mem_recall_rc']\n",
    "\n",
    "plt.figure(figsize=(6, 3))\n",
    "\n",
    "for i, column in enumerate(columns):\n",
    "    data = score_df[column]\n",
    "    sns.kdeplot(data, label=column, fill=True, alpha=0.3, bw_adjust=0.5)\n",
    "    \n",
    "plt.xlabel(\"Score\")\n",
    "plt.ylabel(\"Density\")\n",
    "plt.legend(title=\"Columns\")\n",
    "plt.tight_layout()\n",
    "plt.show()\n"
   ]
  },
  {
   "cell_type": "code",
   "execution_count": null,
   "metadata": {},
   "outputs": [],
   "source": [
    "score_df[score_df['long_mem_recall_rc']<=0.5].index"
   ]
  },
  {
   "cell_type": "code",
   "execution_count": 55,
   "metadata": {},
   "outputs": [],
   "source": [
    "score_df.to_json(\"MSC_score_500.json\", orient='records', lines=True)"
   ]
  },
  {
   "cell_type": "markdown",
   "metadata": {},
   "source": [
    "Short memory score"
   ]
  },
  {
   "cell_type": "code",
   "execution_count": 6,
   "metadata": {},
   "outputs": [],
   "source": [
    "import pandas as pd\n",
    "\n",
    "number = 500\n",
    "answer_df = pd.read_json(\"s_MSC_eval.json\", lines=True)\n",
    "# answer_df = pd.read_json(\"s_MSC_score_v1.json\", lines=True)\n",
    "score_df = answer_df[:number]\n",
    "evaluate('short_mem', score_df)"
   ]
  },
  {
   "cell_type": "code",
   "execution_count": 7,
   "metadata": {},
   "outputs": [
    {
     "name": "stdout",
     "output_type": "stream",
     "text": [
      "short_mem_f1     0.031469\n",
      "short_mem_rc     0.826127\n",
      "short_mem_pre    0.016256\n",
      "dtype: float64\n"
     ]
    }
   ],
   "source": [
    "short_mem_means = score_df[['short_mem_f1', 'short_mem_rc', 'short_mem_pre']].mean()\n",
    "print(short_mem_means)"
   ]
  },
  {
   "cell_type": "code",
   "execution_count": 77,
   "metadata": {},
   "outputs": [],
   "source": [
    "score_df.to_json(\"s_MSC_score.json\", orient='records', lines=True)"
   ]
  },
  {
   "cell_type": "markdown",
   "metadata": {},
   "source": [
    "LLM judge"
   ]
  },
  {
   "cell_type": "code",
   "execution_count": 56,
   "metadata": {},
   "outputs": [],
   "source": [
    "from dotenv import load_dotenv\n",
    "from openai import OpenAI\n",
    "import os\n",
    "\n",
    "load_dotenv()\n",
    "client = OpenAI(api_key=os.getenv(\"OPENAI_API_KEY\"))\n",
    "\n",
    "def llm_create(prompt):\n",
    "        messages = [{\"role\": \"user\", \"content\": prompt}]\n",
    "        completion = client.chat.completions.create(\n",
    "            model=\"gpt-4o-mini\",\n",
    "            messages=messages,\n",
    "            temperature=0\n",
    "        )\n",
    "        return completion.choices[0].message.content\n",
    "\n",
    "judge_prompt = \"\"\"Your task is to label an answer to a question as ‘CORRECT’ or ‘WRONG’.\n",
    "\n",
    "You will be given the following data:\n",
    "\n",
    "A question (posed by one user to another user).\n",
    "A ‘gold’ (ground truth) answer.\n",
    "A generated answer, which you will score as CORRECT/WRONG.\n",
    "The point of the question is to ask about something one user should know about the other user based on their prior conversations.\n",
    "\n",
    "The gold answer will usually be a concise and short answer that includes the referenced topic. For example:\n",
    "Question: Do you remember what I got the last time I went to Hawaii?\n",
    "Gold answer: A shell necklace\n",
    "\n",
    "The generated answer might be much longer, but you should be generous with your grading—as long as it touches on the same topic as the gold answer, it should be counted as CORRECT.\n",
    "\n",
    "For example, the following answers would be considered CORRECT:\n",
    "\n",
    "Generated answer (CORRECT): Oh yeah, that was so fun! I got so much stuff there, including that shell necklace.\n",
    "Generated answer (CORRECT): I got a ton of stuff... that surfboard, the mug, the necklace, those coasters too.\n",
    "Generated answer (CORRECT): That cute necklace.\n",
    "The following answers would be considered WRONG:\n",
    "\n",
    "Generated answer (WRONG): Oh yeah, that was so fun! I got so much stuff there, including that mug.\n",
    "Generated answer (WRONG): I got a ton of stuff... that surfboard, the mug, those coasters too.\n",
    "Generated answer (WRONG): I’m sorry, I don’t remember what you’re talking about.\n",
    "Now it’s time for the real question:\n",
    "Question: {question}\n",
    "Gold answer: {gold_answer}\n",
    "Generated answer: {generated_answer}\n",
    "\n",
    "First, provide a short (one sentence) explanation of your reasoning, then finish with CORRECT or WRONG.\n",
    "\n",
    "Do NOT include both CORRECT and WRONG in your response, or it will break the evaluation script.\"\"\""
   ]
  },
  {
   "cell_type": "code",
   "execution_count": 57,
   "metadata": {},
   "outputs": [],
   "source": [
    "number = 500\n",
    "answer_df = pd.read_json(\"MSC_score_500.json\", lines=True)\n",
    "score_df = answer_df[:number]"
   ]
  },
  {
   "cell_type": "code",
   "execution_count": 58,
   "metadata": {},
   "outputs": [
    {
     "name": "stderr",
     "output_type": "stream",
     "text": [
      "/tmp/ipykernel_2188684/3655243862.py:5: SettingWithCopyWarning: \n",
      "A value is trying to be set on a copy of a slice from a DataFrame.\n",
      "Try using .loc[row_indexer,col_indexer] = value instead\n",
      "\n",
      "See the caveats in the documentation: https://pandas.pydata.org/pandas-docs/stable/user_guide/indexing.html#returning-a-view-versus-a-copy\n",
      "  score_df.at[i, 'long_mem_judge'] = res\n",
      "/tmp/ipykernel_2188684/3655243862.py:8: SettingWithCopyWarning: \n",
      "A value is trying to be set on a copy of a slice from a DataFrame.\n",
      "Try using .loc[row_indexer,col_indexer] = value instead\n",
      "\n",
      "See the caveats in the documentation: https://pandas.pydata.org/pandas-docs/stable/user_guide/indexing.html#returning-a-view-versus-a-copy\n",
      "  score_df.at[i, 'long_mem_recall_judge'] = res\n"
     ]
    }
   ],
   "source": [
    "for i in range(number):\n",
    "    row = score_df.iloc[i]\n",
    "    p = judge_prompt.format(question=row['question'], gold_answer=row['gold_answer'], generated_answer=row['long_mem_answer'])\n",
    "    res = llm_create(p)\n",
    "    score_df.at[i, 'long_mem_judge'] = res\n",
    "    p = judge_prompt.format(question=row['question'], gold_answer=row['gold_answer'], generated_answer=row['long_mem_recall_answer'])\n",
    "    res = llm_create(p)\n",
    "    score_df.at[i, 'long_mem_recall_judge'] = res"
   ]
  },
  {
   "cell_type": "code",
   "execution_count": 59,
   "metadata": {},
   "outputs": [
    {
     "name": "stdout",
     "output_type": "stream",
     "text": [
      "long_mem_accuracy: 0.736\n",
      "long_mem_recall_accuracy: 0.756\n"
     ]
    },
    {
     "name": "stderr",
     "output_type": "stream",
     "text": [
      "/tmp/ipykernel_2188684/3275364295.py:4: SettingWithCopyWarning: \n",
      "A value is trying to be set on a copy of a slice from a DataFrame.\n",
      "Try using .loc[row_indexer,col_indexer] = value instead\n",
      "\n",
      "See the caveats in the documentation: https://pandas.pydata.org/pandas-docs/stable/user_guide/indexing.html#returning-a-view-versus-a-copy\n",
      "  score_df.at[i, 'long_mem_accuracy'] = 1\n",
      "/tmp/ipykernel_2188684/3275364295.py:9: SettingWithCopyWarning: \n",
      "A value is trying to be set on a copy of a slice from a DataFrame.\n",
      "Try using .loc[row_indexer,col_indexer] = value instead\n",
      "\n",
      "See the caveats in the documentation: https://pandas.pydata.org/pandas-docs/stable/user_guide/indexing.html#returning-a-view-versus-a-copy\n",
      "  score_df.at[i, 'long_mem_recall_accuracy'] = 1\n"
     ]
    }
   ],
   "source": [
    "for i in range(number):\n",
    "    res = score_df.at[i, 'long_mem_judge']\n",
    "    if 'CORRECT' in res:\n",
    "        score_df.at[i, 'long_mem_accuracy'] = 1\n",
    "    elif 'WRONG' in res:\n",
    "        score_df.at[i, 'long_mem_accuracy'] = 0\n",
    "    res = score_df.at[i, 'long_mem_recall_judge']\n",
    "    if 'CORRECT' in res:\n",
    "        score_df.at[i, 'long_mem_recall_accuracy'] = 1\n",
    "    elif 'WRONG' in res:\n",
    "        score_df.at[i, 'long_mem_recall_accuracy'] = 0\n",
    "print(f\"long_mem_accuracy: {score_df['long_mem_accuracy'].sum()/number}\")\n",
    "print(f\"long_mem_recall_accuracy: {score_df['long_mem_recall_accuracy'].sum()/number}\")"
   ]
  },
  {
   "cell_type": "code",
   "execution_count": 61,
   "metadata": {},
   "outputs": [],
   "source": [
    "score_df.to_json(\"MSC_score_500.json\", orient='records', lines=True)"
   ]
  }
 ],
 "metadata": {
  "kernelspec": {
   "display_name": "Python 3",
   "language": "python",
   "name": "python3"
  },
  "language_info": {
   "codemirror_mode": {
    "name": "ipython",
    "version": 3
   },
   "file_extension": ".py",
   "mimetype": "text/x-python",
   "name": "python",
   "nbconvert_exporter": "python",
   "pygments_lexer": "ipython3",
   "version": "3.10.12"
  }
 },
 "nbformat": 4,
 "nbformat_minor": 2
}
