{
 "cells": [
  {
   "cell_type": "code",
   "execution_count": 1,
   "metadata": {},
   "outputs": [
    {
     "name": "stdout",
     "output_type": "stream",
     "text": [
      "Detect existed deafult user short memory space, loading...\n"
     ]
    }
   ],
   "source": [
    "from component import WeaviateShortMemory\n",
    "L = WeaviateShortMemory()"
   ]
  },
  {
   "cell_type": "code",
   "execution_count": 3,
   "metadata": {},
   "outputs": [
    {
     "data": {
      "text/plain": [
       "['Hi there, how are you doing today?',\n",
       " \"Hi. I'm doing good, thanks for asking. How about you?\",\n",
       " \"I'm feeling great actually, especially after helping you carry your groceries to your car yesterday.\",\n",
       " 'Oh yes, thank you so much for helping me out! It was so kind of you.',\n",
       " 'It was my pleasure. It felt good to be able to help you. We are neighbors after all.',\n",
       " \"Absolutely! I really appreciate your kindness. If you ever need any help with anything, don't hesitate to ask.\",\n",
       " \"I appreciate that. I'm always here to lend a helping hand if you need it too.\",\n",
       " \"That's great to hear. You know, it reminds me of the time when my car got stuck in the snow and you helped me dig it out.\",\n",
       " 'Oh yeah, I remember that. It was quite the winter storm that day.',\n",
       " \"It definitely was. But I was so grateful that you were there to help. You're a great neighbor.\",\n",
       " \"Thank you, I try my best. It's nice to know we can count on each other in times of need.\",\n",
       " 'Absolutely. We really do live in a great neighborhood filled with caring and helpful people.']"
      ]
     },
     "execution_count": 3,
     "metadata": {},
     "output_type": "execute_result"
    }
   ],
   "source": [
    "import pandas as pd\n",
    "\n",
    "df = pd.read_json('test.jsonl', lines=True)\n",
    "df['first_session_dialogue'][0]"
   ]
  },
  {
   "cell_type": "code",
   "execution_count": 5,
   "metadata": {},
   "outputs": [],
   "source": [
    "chatlogs = [\n",
    "  {\"assistant\": \"Hi there, how are you doing today?\", \"user\": \"Hi. I'm doing good, thanks for asking. How about you?\", \"time\": \"2024-10-31T04:18:00Z\"},\n",
    "  {\"assistant\": \"I'm feeling great actually, especially after helping you carry your groceries to your car yesterday.\", \"user\": \"Oh yes, thank you so much for helping me out! It was so kind of you.\", \"time\": \"2024-10-31T04:19:00Z\"},\n",
    "  {\"assistant\": \"It was my pleasure. It felt good to be able to help you. We are neighbors after all.\", \"user\": \"Absolutely! I really appreciate your kindness. If you ever need any help with anything, don't hesitate to ask.\", \"time\": \"2024-10-31T04:20:00Z\"},\n",
    "  {\"assistant\": \"I appreciate that. I'm always here to lend a helping hand if you need it too.\", \"user\": \"That's great to hear. You know, it reminds me of the time when my car got stuck in the snow and you helped me dig it out.\", \"time\": \"2024-10-31T04:21:00Z\"},\n",
    "  {\"assistant\": \"Oh yeah, I remember that. It was quite the winter storm that day.\", \"user\": \"It definitely was. But I was so grateful that you were there to help. You're a great neighbor.\", \"time\": \"2024-10-31T04:22:00Z\"},\n",
    "  {\"assistant\": \"Thank you, I try my best. It's nice to know we can count on each other in times of need.\", \"user\": \"Absolutely. We really do live in a great neighborhood filled with caring and helpful people.\", \"time\": \"2024-10-31T04:23:00Z\"}\n",
    "]"
   ]
  },
  {
   "cell_type": "code",
   "execution_count": 6,
   "metadata": {},
   "outputs": [],
   "source": [
    "L.add_chatlogs(chatlogs)"
   ]
  },
  {
   "cell_type": "code",
   "execution_count": 2,
   "metadata": {},
   "outputs": [],
   "source": [
    "query = \"Do you remember what weather the day you helped me dug my car?\""
   ]
  },
  {
   "cell_type": "code",
   "execution_count": 3,
   "metadata": {},
   "outputs": [
    {
     "data": {
      "text/plain": [
       "{'retrieve_memory': [{'text': \"assistant:Hi there, how are you doing today?, user:Hi. I'm doing good, thanks for asking. How about you?\",\n",
       "   'time': '10/31 04:18'},\n",
       "  {'text': \"assistant:I'm feeling great actually, especially after helping you carry your groceries to your car yesterday., user:Oh yes, thank you so much for helping me out! It was so kind of you.\",\n",
       "   'time': '10/31 04:19'},\n",
       "  {'text': \"assistant:It was my pleasure. It felt good to be able to help you. We are neighbors after all., user:Absolutely! I really appreciate your kindness. If you ever need any help with anything, don't hesitate to ask.\",\n",
       "   'time': '10/31 04:20'},\n",
       "  {'text': \"assistant:I appreciate that. I'm always here to lend a helping hand if you need it too., user:That's great to hear. You know, it reminds me of the time when my car got stuck in the snow and you helped me dig it out.\",\n",
       "   'time': '10/31 04:21'},\n",
       "  {'text': \"assistant:Oh yeah, I remember that. It was quite the winter storm that day., user:It definitely was. But I was so grateful that you were there to help. You're a great neighbor.\",\n",
       "   'time': '10/31 04:22'}]}"
      ]
     },
     "execution_count": 3,
     "metadata": {},
     "output_type": "execute_result"
    }
   ],
   "source": [
    "L.get_relevant_memory(query)"
   ]
  },
  {
   "cell_type": "code",
   "execution_count": 4,
   "metadata": {},
   "outputs": [
    {
     "name": "stdout",
     "output_type": "stream",
     "text": [
      "Search by keywords:['weather', 'memory', 'help']\n"
     ]
    },
    {
     "data": {
      "text/plain": [
       "{'retrieve_memory': [{'text': \"assistant:It was my pleasure. It felt good to be able to help you. We are neighbors after all., user:Absolutely! I really appreciate your kindness. If you ever need any help with anything, don't hesitate to ask.\",\n",
       "   'time': '10/31 04:20'},\n",
       "  {'text': \"assistant:Oh yeah, I remember that. It was quite the winter storm that day., user:It definitely was. But I was so grateful that you were there to help. You're a great neighbor.\",\n",
       "   'time': '10/31 04:22'}]}"
      ]
     },
     "execution_count": 4,
     "metadata": {},
     "output_type": "execute_result"
    }
   ],
   "source": [
    "L.get_relevant_memory(query, \"keyword\")"
   ]
  },
  {
   "cell_type": "code",
   "execution_count": 6,
   "metadata": {},
   "outputs": [
    {
     "data": {
      "text/plain": [
       "{'retrieve_memory': [{'text': \"assistant:I'm feeling great actually, especially after helping you carry your groceries to your car yesterday., user:Oh yes, thank you so much for helping me out! It was so kind of you.\",\n",
       "   'time': '10/31 04:19'},\n",
       "  {'text': \"assistant:It was my pleasure. It felt good to be able to help you. We are neighbors after all., user:Absolutely! I really appreciate your kindness. If you ever need any help with anything, don't hesitate to ask.\",\n",
       "   'time': '10/31 04:20'},\n",
       "  {'text': \"assistant:I appreciate that. I'm always here to lend a helping hand if you need it too., user:That's great to hear. You know, it reminds me of the time when my car got stuck in the snow and you helped me dig it out.\",\n",
       "   'time': '10/31 04:21'},\n",
       "  {'text': \"assistant:Oh yeah, I remember that. It was quite the winter storm that day., user:It definitely was. But I was so grateful that you were there to help. You're a great neighbor.\",\n",
       "   'time': '10/31 04:22'},\n",
       "  {'text': \"assistant:Thank you, I try my best. It's nice to know we can count on each other in times of need., user:Absolutely. We really do live in a great neighborhood filled with caring and helpful people.\",\n",
       "   'time': '10/31 04:23'}]}"
      ]
     },
     "execution_count": 6,
     "metadata": {},
     "output_type": "execute_result"
    }
   ],
   "source": [
    "L.get_relevant_memory(query, \"BM25\")"
   ]
  },
  {
   "cell_type": "code",
   "execution_count": 8,
   "metadata": {},
   "outputs": [],
   "source": [
    "data = L.dump_memory(clear=False)"
   ]
  },
  {
   "cell_type": "code",
   "execution_count": 9,
   "metadata": {},
   "outputs": [
    {
     "data": {
      "text/plain": [
       "[{'text': \"assistant:It was my pleasure. It felt good to be able to help you. We are neighbors after all., user:Absolutely! I really appreciate your kindness. If you ever need any help with anything, don't hesitate to ask.\",\n",
       "  'time': datetime.datetime(2024, 10, 31, 4, 20, tzinfo=datetime.timezone.utc)},\n",
       " {'text': \"assistant:Oh yeah, I remember that. It was quite the winter storm that day., user:It definitely was. But I was so grateful that you were there to help. You're a great neighbor.\",\n",
       "  'time': datetime.datetime(2024, 10, 31, 4, 22, tzinfo=datetime.timezone.utc)},\n",
       " {'text': \"assistant:I appreciate that. I'm always here to lend a helping hand if you need it too., user:That's great to hear. You know, it reminds me of the time when my car got stuck in the snow and you helped me dig it out.\",\n",
       "  'time': datetime.datetime(2024, 10, 31, 4, 21, tzinfo=datetime.timezone.utc)},\n",
       " {'text': \"assistant:Thank you, I try my best. It's nice to know we can count on each other in times of need., user:Absolutely. We really do live in a great neighborhood filled with caring and helpful people.\",\n",
       "  'time': datetime.datetime(2024, 10, 31, 4, 23, tzinfo=datetime.timezone.utc)},\n",
       " {'text': \"assistant:Hi there, how are you doing today?, user:Hi. I'm doing good, thanks for asking. How about you?\",\n",
       "  'time': datetime.datetime(2024, 10, 31, 4, 18, tzinfo=datetime.timezone.utc)},\n",
       " {'text': \"assistant:I'm feeling great actually, especially after helping you carry your groceries to your car yesterday., user:Oh yes, thank you so much for helping me out! It was so kind of you.\",\n",
       "  'time': datetime.datetime(2024, 10, 31, 4, 19, tzinfo=datetime.timezone.utc)}]"
      ]
     },
     "execution_count": 9,
     "metadata": {},
     "output_type": "execute_result"
    }
   ],
   "source": [
    "data"
   ]
  }
 ],
 "metadata": {
  "kernelspec": {
   "display_name": "Python 3",
   "language": "python",
   "name": "python3"
  },
  "language_info": {
   "codemirror_mode": {
    "name": "ipython",
    "version": 3
   },
   "file_extension": ".py",
   "mimetype": "text/x-python",
   "name": "python",
   "nbconvert_exporter": "python",
   "pygments_lexer": "ipython3",
   "version": "3.10.12"
  }
 },
 "nbformat": 4,
 "nbformat_minor": 2
}
