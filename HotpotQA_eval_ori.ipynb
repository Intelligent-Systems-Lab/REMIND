{
 "cells": [
  {
   "cell_type": "code",
   "execution_count": 3,
   "metadata": {},
   "outputs": [],
   "source": [
    "import json\n",
    "with open(\"hotpot_dev_distractor_v1.json\") as f:\n",
    "    datasets = json.load(f)"
   ]
  },
  {
   "cell_type": "code",
   "execution_count": 4,
   "metadata": {},
   "outputs": [],
   "source": [
    "datasets = datasets[:500]"
   ]
  },
  {
   "cell_type": "code",
   "execution_count": 2,
   "metadata": {},
   "outputs": [],
   "source": [
    "from dotenv import load_dotenv\n",
    "from openai import OpenAI\n",
    "import os\n",
    "\n",
    "load_dotenv()\n",
    "client = OpenAI(api_key=os.getenv(\"OPENAI_API_KEY\"))\n",
    "\n",
    "def llm_create(prompt):\n",
    "        messages = [{\"role\": \"user\", \"content\": prompt}]\n",
    "        completion = client.chat.completions.create(\n",
    "            model=\"gpt-4o-mini\",\n",
    "            messages=messages,\n",
    "        )\n",
    "        return completion.choices[0].message.content"
   ]
  },
  {
   "cell_type": "code",
   "execution_count": 1,
   "metadata": {},
   "outputs": [],
   "source": [
    "answer_prompt = \"\"\"Base on the following document and answer the question.\n",
    "Only answer, no explanation.\n",
    "\n",
    "Question:{question}\n",
    "\n",
    "Document:{docs}\n",
    "\"\"\""
   ]
  },
  {
   "cell_type": "code",
   "execution_count": 5,
   "metadata": {},
   "outputs": [
    {
     "name": "stdout",
     "output_type": "stream",
     "text": [
      "Detect existed Hotpot user group memory space, loading...\n",
      "Detect existed Hotpot user child memory space, loading...\n"
     ]
    }
   ],
   "source": [
    "from long_memory.component import WeaviateLongMemory\n",
    "\n",
    "long_mem = WeaviateLongMemory(user=\"Hotpot\", time_sort=False)"
   ]
  },
  {
   "cell_type": "code",
   "execution_count": 6,
   "metadata": {},
   "outputs": [],
   "source": [
    "import pandas as pd\n",
    "\n",
    "df = pd.DataFrame()\n",
    "df['question_id'] = None\n",
    "df['question'] = None\n",
    "df['gold_answer'] = None\n",
    "df['answer'] = None\n",
    "df['org_res_from_long_mem'] = None"
   ]
  },
  {
   "cell_type": "code",
   "execution_count": 1,
   "metadata": {},
   "outputs": [],
   "source": [
    "import pandas as pd\n",
    "df = pd.read_json(\"hotpot_df_v2.json\", lines=True)"
   ]
  },
  {
   "cell_type": "code",
   "execution_count": 7,
   "metadata": {},
   "outputs": [],
   "source": [
    "other_instruct = \"\"\"Here's some guide for you.\n",
    "similar_snippets is original memory, related_summaries and closest_summary are compressed memory for suggestion, \n",
    "If you see some relative content from related_summaries, you can use jump to related_summaries and get original memory.\n",
    "The question may need several memory to answer, when you get part of evidence, you can reasoning and use retry to search the rest.\"\"\""
   ]
  },
  {
   "cell_type": "code",
   "execution_count": 10,
   "metadata": {},
   "outputs": [
    {
     "name": "stdout",
     "output_type": "stream",
     "text": [
      "---1---\n",
      "Detect empty group memory, create memory space...\n",
      "Detect empty child memory, create memory space...\n",
      "\u001b[34mSave article to long memory done.\u001b[0m\n",
      "\u001b[34mSave article to long memory done.\u001b[0m\n",
      "\u001b[34mSave article to long memory done.\u001b[0m\n",
      "\u001b[34mSave article to long memory done.\u001b[0m\n",
      "\u001b[34mSave article to long memory done.\u001b[0m\n",
      "\u001b[34mSave article to long memory done.\u001b[0m\n",
      "\u001b[34mSave article to long memory done.\u001b[0m\n",
      "\u001b[34mSave article to long memory done.\u001b[0m\n",
      "\u001b[34mSave article to long memory done.\u001b[0m\n",
      "\u001b[34mSave article to long memory done.\u001b[0m\n",
      "---31---\n",
      "Detect empty group memory, create memory space...\n",
      "Detect empty child memory, create memory space...\n",
      "\u001b[34mSave article to long memory done.\u001b[0m\n",
      "\u001b[34mSave article to long memory done.\u001b[0m\n",
      "\u001b[34mSave article to long memory done.\u001b[0m\n",
      "\u001b[34mSave article to long memory done.\u001b[0m\n",
      "\u001b[34mSave article to long memory done.\u001b[0m\n",
      "\u001b[34mSave article to long memory done.\u001b[0m\n",
      "\u001b[34mSave article to long memory done.\u001b[0m\n",
      "\u001b[34mSave article to long memory done.\u001b[0m\n",
      "\u001b[34mSave article to long memory done.\u001b[0m\n",
      "\u001b[34mSave article to long memory done.\u001b[0m\n",
      "---51---\n",
      "Detect empty group memory, create memory space...\n",
      "Detect empty child memory, create memory space...\n",
      "\u001b[34mSave article to long memory done.\u001b[0m\n",
      "\u001b[34mSave article to long memory done.\u001b[0m\n",
      "\u001b[34mSave article to long memory done.\u001b[0m\n",
      "\u001b[34mSave article to long memory done.\u001b[0m\n",
      "\u001b[34mSave article to long memory done.\u001b[0m\n",
      "\u001b[34mSave article to long memory done.\u001b[0m\n",
      "\u001b[34mSave article to long memory done.\u001b[0m\n",
      "\u001b[34mSave article to long memory done.\u001b[0m\n",
      "\u001b[34mSave article to long memory done.\u001b[0m\n",
      "\u001b[34mSave article to long memory done.\u001b[0m\n",
      "---69---\n",
      "Detect empty group memory, create memory space...\n",
      "Detect empty child memory, create memory space...\n",
      "\u001b[34mSave article to long memory done.\u001b[0m\n",
      "\u001b[34mSave article to long memory done.\u001b[0m\n",
      "\u001b[34mSave article to long memory done.\u001b[0m\n",
      "\u001b[34mSave article to long memory done.\u001b[0m\n",
      "\u001b[34mSave article to long memory done.\u001b[0m\n",
      "\u001b[34mSave article to long memory done.\u001b[0m\n",
      "\u001b[34mSave article to long memory done.\u001b[0m\n",
      "\u001b[34mSave article to long memory done.\u001b[0m\n",
      "\u001b[34mSave article to long memory done.\u001b[0m\n",
      "\u001b[34mSave article to long memory done.\u001b[0m\n"
     ]
    }
   ],
   "source": [
    "error_list = []\n",
    "for i in range(100):\n",
    "    try:\n",
    "        print(f\"---{i}---\")\n",
    "        long_mem.del_memory()\n",
    "        doc_list = datasets[i][\"context\"]\n",
    "        question_id = datasets[i][\"_id\"]\n",
    "        gold_answer = datasets[i]['answer']\n",
    "        question = datasets[i][\"question\"]\n",
    "        df.loc[i, 'question_id'] = question_id \n",
    "        df.loc[i, 'question'] = question\n",
    "        df.loc[i, 'gold_answer'] = gold_answer\n",
    "        for doc in doc_list:\n",
    "            article = []\n",
    "            for content in doc[1]:\n",
    "                content = content.replace('\"', \"\").strip(\".'\")\n",
    "                if len(content)<=7 or content==\"<ref name=Ahmed Rashid/The Telegraph> </ref>\": # 過濾無意義的詞\n",
    "                    pass\n",
    "                else:\n",
    "                    article.append({\"text\":content})\n",
    "            long_mem.add_article(article)\n",
    "        res = long_mem.get_memory(question, recall=True, other_instruct=other_instruct)\n",
    "        df.loc[i, 'org_res_from_long_mem'] = str(res)\n",
    "        answer_res = llm_create(answer_prompt.format(question=question, docs=res))\n",
    "        df.loc[i, 'answer'] = answer_res\n",
    "    except Exception as e:\n",
    "        print(f\"-----error{e}-----\")\n",
    "        error_list.append(i)\n",
    "        \n",
    "    if (i+1) % 10 == 0:\n",
    "        df.to_json(\"hotpot_df_v2.json\", orient=\"records\", lines=True)\n",
    "df.to_json(\"hotpot_df_v2.json\", orient=\"records\", lines=True)"
   ]
  },
  {
   "cell_type": "code",
   "execution_count": 19,
   "metadata": {},
   "outputs": [
    {
     "data": {
      "text/plain": [
       "[]"
      ]
     },
     "execution_count": 19,
     "metadata": {},
     "output_type": "execute_result"
    }
   ],
   "source": [
    "error_list # 檢查錯誤 存檔"
   ]
  },
  {
   "cell_type": "code",
   "execution_count": 18,
   "metadata": {},
   "outputs": [],
   "source": [
    "df.to_json(\"hotpot_df_v2.json\", orient=\"records\", lines=True)"
   ]
  },
  {
   "cell_type": "code",
   "execution_count": 22,
   "metadata": {},
   "outputs": [
    {
     "data": {
      "text/html": [
       "<div>\n",
       "<style scoped>\n",
       "    .dataframe tbody tr th:only-of-type {\n",
       "        vertical-align: middle;\n",
       "    }\n",
       "\n",
       "    .dataframe tbody tr th {\n",
       "        vertical-align: top;\n",
       "    }\n",
       "\n",
       "    .dataframe thead th {\n",
       "        text-align: right;\n",
       "    }\n",
       "</style>\n",
       "<table border=\"1\" class=\"dataframe\">\n",
       "  <thead>\n",
       "    <tr style=\"text-align: right;\">\n",
       "      <th></th>\n",
       "      <th>question_id</th>\n",
       "      <th>question</th>\n",
       "      <th>gold_answer</th>\n",
       "      <th>answer</th>\n",
       "      <th>org_res_from_long_mem</th>\n",
       "    </tr>\n",
       "  </thead>\n",
       "  <tbody>\n",
       "    <tr>\n",
       "      <th>0</th>\n",
       "      <td>5a8b57f25542995d1e6f1371</td>\n",
       "      <td>Were Scott Derrickson and Ed Wood of the same ...</td>\n",
       "      <td>yes</td>\n",
       "      <td>Yes.</td>\n",
       "      <td>{'search times': 1, 'used queries': ['Were Sco...</td>\n",
       "    </tr>\n",
       "    <tr>\n",
       "      <th>1</th>\n",
       "      <td>5a8c7595554299585d9e36b6</td>\n",
       "      <td>What government position was held by the woman...</td>\n",
       "      <td>Chief of Protocol</td>\n",
       "      <td>Shirley Temple held the position of United Sta...</td>\n",
       "      <td>{'search times': 3, 'used queries': ['What gov...</td>\n",
       "    </tr>\n",
       "    <tr>\n",
       "      <th>2</th>\n",
       "      <td>5a85ea095542994775f606a8</td>\n",
       "      <td>What science fantasy young adult series, told ...</td>\n",
       "      <td>Animorphs</td>\n",
       "      <td>Animorphs series</td>\n",
       "      <td>{'search times': 1, 'used queries': ['What sci...</td>\n",
       "    </tr>\n",
       "    <tr>\n",
       "      <th>3</th>\n",
       "      <td>5adbf0a255429947ff17385a</td>\n",
       "      <td>Are the Laleli Mosque and Esma Sultan Mansion ...</td>\n",
       "      <td>no</td>\n",
       "      <td>No.</td>\n",
       "      <td>{'search times': 2, 'used queries': ['Are the ...</td>\n",
       "    </tr>\n",
       "    <tr>\n",
       "      <th>4</th>\n",
       "      <td>5a8e3ea95542995a26add48d</td>\n",
       "      <td>The director of the romantic comedy \"Big Stone...</td>\n",
       "      <td>Greenwich Village, New York City</td>\n",
       "      <td>Greenwich Village, New York City.</td>\n",
       "      <td>{'search times': 2, 'used queries': ['The dire...</td>\n",
       "    </tr>\n",
       "    <tr>\n",
       "      <th>5</th>\n",
       "      <td>5abd94525542992ac4f382d2</td>\n",
       "      <td>2014 S/S is the debut album of a South Korean ...</td>\n",
       "      <td>YG Entertainment</td>\n",
       "      <td>YG Entertainment</td>\n",
       "      <td>{'search times': 1, 'used queries': ['2014 S/S...</td>\n",
       "    </tr>\n",
       "    <tr>\n",
       "      <th>6</th>\n",
       "      <td>5a85b2d95542997b5ce40028</td>\n",
       "      <td>Who was known by his stage name Aladin and hel...</td>\n",
       "      <td>Eenasul Fateh</td>\n",
       "      <td>Eenasul Fateh</td>\n",
       "      <td>{'search times': 1, 'used queries': ['Who was ...</td>\n",
       "    </tr>\n",
       "    <tr>\n",
       "      <th>7</th>\n",
       "      <td>5a87ab905542996e4f3088c1</td>\n",
       "      <td>The arena where the Lewiston Maineiacs played ...</td>\n",
       "      <td>3,677 seated</td>\n",
       "      <td>4,000</td>\n",
       "      <td>{'search times': 1, 'used queries': ['The aren...</td>\n",
       "    </tr>\n",
       "    <tr>\n",
       "      <th>8</th>\n",
       "      <td>5a7bbb64554299042af8f7cc</td>\n",
       "      <td>Who is older, Annie Morton or Terry Richardson?</td>\n",
       "      <td>Terry Richardson</td>\n",
       "      <td>Terry Richardson is older than Annie Morton.</td>\n",
       "      <td>{'search times': 2, 'used queries': ['Who is o...</td>\n",
       "    </tr>\n",
       "    <tr>\n",
       "      <th>9</th>\n",
       "      <td>5a8db19d5542994ba4e3dd00</td>\n",
       "      <td>Are Local H and For Against both from the Unit...</td>\n",
       "      <td>yes</td>\n",
       "      <td>Yes.</td>\n",
       "      <td>{'search times': 1, 'used queries': ['Are Loca...</td>\n",
       "    </tr>\n",
       "  </tbody>\n",
       "</table>\n",
       "</div>"
      ],
      "text/plain": [
       "                question_id  \\\n",
       "0  5a8b57f25542995d1e6f1371   \n",
       "1  5a8c7595554299585d9e36b6   \n",
       "2  5a85ea095542994775f606a8   \n",
       "3  5adbf0a255429947ff17385a   \n",
       "4  5a8e3ea95542995a26add48d   \n",
       "5  5abd94525542992ac4f382d2   \n",
       "6  5a85b2d95542997b5ce40028   \n",
       "7  5a87ab905542996e4f3088c1   \n",
       "8  5a7bbb64554299042af8f7cc   \n",
       "9  5a8db19d5542994ba4e3dd00   \n",
       "\n",
       "                                            question  \\\n",
       "0  Were Scott Derrickson and Ed Wood of the same ...   \n",
       "1  What government position was held by the woman...   \n",
       "2  What science fantasy young adult series, told ...   \n",
       "3  Are the Laleli Mosque and Esma Sultan Mansion ...   \n",
       "4  The director of the romantic comedy \"Big Stone...   \n",
       "5  2014 S/S is the debut album of a South Korean ...   \n",
       "6  Who was known by his stage name Aladin and hel...   \n",
       "7  The arena where the Lewiston Maineiacs played ...   \n",
       "8    Who is older, Annie Morton or Terry Richardson?   \n",
       "9  Are Local H and For Against both from the Unit...   \n",
       "\n",
       "                        gold_answer  \\\n",
       "0                               yes   \n",
       "1                 Chief of Protocol   \n",
       "2                         Animorphs   \n",
       "3                                no   \n",
       "4  Greenwich Village, New York City   \n",
       "5                  YG Entertainment   \n",
       "6                     Eenasul Fateh   \n",
       "7                      3,677 seated   \n",
       "8                  Terry Richardson   \n",
       "9                               yes   \n",
       "\n",
       "                                              answer  \\\n",
       "0                                               Yes.   \n",
       "1  Shirley Temple held the position of United Sta...   \n",
       "2                                   Animorphs series   \n",
       "3                                                No.   \n",
       "4                  Greenwich Village, New York City.   \n",
       "5                                   YG Entertainment   \n",
       "6                                      Eenasul Fateh   \n",
       "7                                              4,000   \n",
       "8       Terry Richardson is older than Annie Morton.   \n",
       "9                                               Yes.   \n",
       "\n",
       "                               org_res_from_long_mem  \n",
       "0  {'search times': 1, 'used queries': ['Were Sco...  \n",
       "1  {'search times': 3, 'used queries': ['What gov...  \n",
       "2  {'search times': 1, 'used queries': ['What sci...  \n",
       "3  {'search times': 2, 'used queries': ['Are the ...  \n",
       "4  {'search times': 2, 'used queries': ['The dire...  \n",
       "5  {'search times': 1, 'used queries': ['2014 S/S...  \n",
       "6  {'search times': 1, 'used queries': ['Who was ...  \n",
       "7  {'search times': 1, 'used queries': ['The aren...  \n",
       "8  {'search times': 2, 'used queries': ['Who is o...  \n",
       "9  {'search times': 1, 'used queries': ['Are Loca...  "
      ]
     },
     "execution_count": 22,
     "metadata": {},
     "output_type": "execute_result"
    }
   ],
   "source": [
    "df[:10]"
   ]
  },
  {
   "cell_type": "code",
   "execution_count": 24,
   "metadata": {},
   "outputs": [
    {
     "data": {
      "text/plain": [
       "{'search times': 1,\n",
       " 'used queries': ['The arena where the Lewiston Maineiacs played their home games can seat how many people?'],\n",
       " 'searched memory': [{'text': 'The Androscoggin Bank Colisée is a multi-purpose arena in Lewiston, Maine, with a capacity of 4,000, which opened in 1958. Notably, it hosted the World Heavyweight Title fight in 1965, where a famous photograph of Muhammed Ali over Sonny Liston was captured.',\n",
       "   'time': '2025/01/14 11:30'}],\n",
       " 'thought': 'The Androscoggin Bank Colisée, where the Lewiston Maineiacs played their home games, has a seating capacity of 4,000.',\n",
       " 'evidence': [{'text': 'The Androscoggin Bank Colisée is a multi-purpose arena in Lewiston, Maine, with a capacity of 4,000.'},\n",
       "  {'text': \"The Lewiston Maineiacs' home games were held at the Androscoggin Bank Colisée.\"}]}"
      ]
     },
     "execution_count": 24,
     "metadata": {},
     "output_type": "execute_result"
    }
   ],
   "source": [
    "eval(df['org_res_from_long_mem'][7])"
   ]
  }
 ],
 "metadata": {
  "kernelspec": {
   "display_name": "Python 3",
   "language": "python",
   "name": "python3"
  },
  "language_info": {
   "codemirror_mode": {
    "name": "ipython",
    "version": 3
   },
   "file_extension": ".py",
   "mimetype": "text/x-python",
   "name": "python",
   "nbconvert_exporter": "python",
   "pygments_lexer": "ipython3",
   "version": "3.10.12"
  }
 },
 "nbformat": 4,
 "nbformat_minor": 2
}
