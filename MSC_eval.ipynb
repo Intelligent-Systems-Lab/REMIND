{
 "cells": [
  {
   "cell_type": "markdown",
   "metadata": {},
   "source": [
    "### Long memory"
   ]
  },
  {
   "cell_type": "markdown",
   "metadata": {},
   "source": [
    "Generate datasets"
   ]
  },
  {
   "cell_type": "code",
   "execution_count": null,
   "metadata": {},
   "outputs": [],
   "source": [
    "import pandas as pd\n",
    "from datetime import datetime, timedelta\n",
    "\n",
    "df = pd.read_json(\"msc_self_instruct.jsonl\", lines=True)\n",
    "\n",
    "answer_df = pd.DataFrame()\n",
    "answer_df['dialog'] = None\n",
    "answer_df['question'] = None\n",
    "answer_df['gold_answer'] = None\n",
    "answer_df['long_mem_result'] = None\n",
    "answer_df['long_mem_answer'] = None\n",
    "answer_df['long_mem_f1'] = None\n",
    "answer_df['long_mem_rc'] = None\n",
    "answer_df['long_mem_pre'] = None\n",
    "answer_df['long_mem_recall_result'] = None\n",
    "answer_df['long_mem_recall_answer'] = None\n",
    "answer_df['long_mem_recall_f1'] = None\n",
    "answer_df['long_mem_recall_rc'] = None\n",
    "answer_df['long_mem_recall_pre'] = None\n",
    "\n",
    "for i in range(500):\n",
    "    # Add dialog\n",
    "    current_time = datetime.strptime(\"2024/11/1 12:00\", \"%Y/%m/%d %H:%M\")\n",
    "    dialog_data = []\n",
    "    for dialog_session in df['previous_dialogs'][i]:\n",
    "        session = []\n",
    "        for count in range(int(len(dialog_session['dialog'])/2)):\n",
    "            chat_log = {\"text\":f\"Allen:{dialog_session['dialog'][2*count]['text']}, Jack:{dialog_session['dialog'][2*count+1]['text']}\", \"time\":current_time.strftime(\"%Y-%m-%dT%H:%M:%SZ\")}\n",
    "            session.append(chat_log)\n",
    "            current_time = current_time + timedelta(minutes=1)\n",
    "        dialog_data.append(session)\n",
    "    answer_df.loc[i, 'dialog'] = str(dialog_data)\n",
    "    \n",
    "    # Add question & answer\n",
    "    answer_df.loc[i, 'question'] = f\"Jack:{df['self_instruct'][i]['B']}\"\n",
    "    answer_df.loc[i, 'gold_answer'] = f\"{df['self_instruct'][i]['A']}\"\n",
    "answer_df.to_json(\"MSC_datasets.json\", orient=\"records\", lines=True)"
   ]
  },
  {
   "cell_type": "code",
   "execution_count": 8,
   "metadata": {},
   "outputs": [],
   "source": [
    "import pandas as pd\n",
    "\n",
    "answer_df = pd.read_json(\"MSC_datasets.json\", lines=True)\n",
    "# answer_df = pd.read_json(\"MSC_eval.json\", lines=True)"
   ]
  },
  {
   "cell_type": "code",
   "execution_count": 2,
   "metadata": {},
   "outputs": [
    {
     "name": "stdout",
     "output_type": "stream",
     "text": [
      "Detect existed deafult user group memory space, loading...\n",
      "Detect existed deafult user child memory space, loading...\n"
     ]
    }
   ],
   "source": [
    "from long_memory.component import WeaviateLongMemory\n",
    "long_mem = WeaviateLongMemory()"
   ]
  },
  {
   "cell_type": "code",
   "execution_count": 5,
   "metadata": {},
   "outputs": [],
   "source": [
    "from dotenv import load_dotenv\n",
    "from openai import OpenAI\n",
    "import os\n",
    "\n",
    "load_dotenv()\n",
    "client = OpenAI(api_key=os.getenv(\"OPENAI_API_KEY\"))\n",
    "\n",
    "def llm_create(prompt):\n",
    "        messages = [{\"role\": \"user\", \"content\": prompt}]\n",
    "        completion = client.chat.completions.create(\n",
    "            model=\"gpt-4o-mini\",\n",
    "            messages=messages,\n",
    "        )\n",
    "        return completion.choices[0].message.content\n",
    "\n",
    "other_instruct=\"\"\"Your role is Allen, Jack will ask some question about you, you need to find relative memory in Allen's memory.\"\"\"\n",
    "\n",
    "answer_prompt = \"\"\"Base on the following document and answer the question.\n",
    "You are Allen, try use origin text in the evidence field to repeat a brief answer.\n",
    "\n",
    "Question:{question}\n",
    "\n",
    "Document:{docs}\n",
    "\"\"\""
   ]
  },
  {
   "cell_type": "code",
   "execution_count": 11,
   "metadata": {},
   "outputs": [
    {
     "name": "stdout",
     "output_type": "stream",
     "text": [
      "===29===\n",
      "Detect empty group memory, create memory space...\n",
      "Detect empty child memory, create memory space...\n",
      "\u001b[34mSave chat logs to long memory done.\u001b[0m\n",
      "===70===\n",
      "Detect empty group memory, create memory space...\n",
      "Detect empty child memory, create memory space...\n",
      "Chat logs not correct, missing id:{13}, unknown id:set(), retry..\n",
      "Chat logs not correct, missing id:{13}, unknown id:set(), retry..\n",
      "Chat logs not correct, missing id:{13}, unknown id:set(), retry..\n",
      "\u001b[34mSave chat logs to long memory done.\u001b[0m\n"
     ]
    }
   ],
   "source": [
    "error_list = []\n",
    "error_log = []\n",
    "for i in range(100):\n",
    "    print(f'==={i}===')\n",
    "    try:\n",
    "        # generate result\n",
    "        long_mem.del_memory()\n",
    "        dialogs = []\n",
    "        for dialog_session in eval(answer_df.loc[i, 'dialog']):\n",
    "            dialogs.extend(dialog_session)\n",
    "        long_mem.add_chat_logs(dialogs)\n",
    "        question = f\"{answer_df.loc[i, 'question']}\"\n",
    "        answer_df.loc[i, 'long_mem_result'] = str(long_mem.get_memory(question, recall=False))\n",
    "        answer_df.loc[i, 'long_mem_recall_result'] = str(long_mem.get_memory(question, recall=True, other_instruct=other_instruct))\n",
    "        \n",
    "        # response\n",
    "        p = answer_prompt.format(question=answer_df.loc[i, 'question'], docs=answer_df.loc[i, 'long_mem_result'])\n",
    "        long_mem_answer = llm_create(p)\n",
    "        answer_df.loc[i, 'long_mem_answer'] = long_mem_answer\n",
    "        \n",
    "        p = answer_prompt.format(question=answer_df.loc[i, 'question'], docs=answer_df.loc[i, 'long_mem_recall_result'])\n",
    "        long_mem_recall_answer = llm_create(p)\n",
    "        answer_df.loc[i, 'long_mem_recall_answer'] = long_mem_recall_answer\n",
    "    except Exception as e:\n",
    "        error_list.append(i)\n",
    "        error_log.append(e)\n",
    "        print(f'----error:{e}----')\n",
    "    if (i+1)%20==0:\n",
    "        answer_df.to_json(\"MSC_eval.json\", orient=\"records\", lines=True)\n",
    "answer_df.to_json(\"MSC_eval.json\", orient=\"records\", lines=True)"
   ]
  },
  {
   "cell_type": "code",
   "execution_count": 6,
   "metadata": {},
   "outputs": [
    {
     "data": {
      "text/plain": [
       "{'search_times': 4,\n",
       " 'used_queries': ['Jack:Hey, remember that time we talked about music? What was the artist you mentioned you could get into?',\n",
       "  'Jack: Do you have any favorite bands or music genres?',\n",
       "  'Jack: What music do you enjoy? Any favorite genres or artists?',\n",
       "  'Jack: What artists or songs do you enjoy listening to in your free time?'],\n",
       " 'searched_memory': [{'text': 'Discussion about hobbies; Jack loves vintage cars, Allen is not interested in them.',\n",
       "   'time': '2024/11/01 12:02'},\n",
       "  {'text': 'Allen and Jack discuss their well-being, Jack mentions relaxing with his two dogs.',\n",
       "   'time': '2024/11/01 12:00'}],\n",
       " 'thought': 'The previous searches did not yield specific information about my music preferences. I should try a different query to uncover any insights.',\n",
       " 'evidence': []}"
      ]
     },
     "execution_count": 6,
     "metadata": {},
     "output_type": "execute_result"
    }
   ],
   "source": [
    "long_mem.get_memory('Jack:Hey, remember that time we talked about music? What was the artist you mentioned you could get into?', recall=True, other_instruct=other_instruct)"
   ]
  },
  {
   "cell_type": "code",
   "execution_count": 7,
   "metadata": {},
   "outputs": [
    {
     "data": {
      "text/plain": [
       "{'Question': 'Jack:Hey, remember that time we talked about music? What was the artist you mentioned you could get into?',\n",
       " 'records': [{'search_times': 1,\n",
       "   'used_query': 'Jack:Hey, remember that time we talked about music? What was the artist you mentioned you could get into?',\n",
       "   'searched memory': {'text': 'Discussion about hobbies; Jack loves vintage cars, Allen is not interested in them.',\n",
       "    'time': '2024/11/01 12:02'},\n",
       "   'thought': \"I haven't found any specific information about my music taste or the artist mentioned. Maybe asking about favorite bands or genres would yield better results.\",\n",
       "   'evdience': [],\n",
       "   'next_action': 'retry'},\n",
       "  {'search_times': 2,\n",
       "   'used_query': 'Jack: Do you have any favorite bands or music genres?',\n",
       "   'searched memory': {'text': 'Discussion about hobbies; Jack loves vintage cars, Allen is not interested in them.',\n",
       "    'time': '2024/11/01 12:02'},\n",
       "   'thought': \"I haven't found any specific information about my music taste yet. Asking about my favorite genres or artists might yield better results.\",\n",
       "   'evdience': [],\n",
       "   'next_action': 'retry'},\n",
       "  {'search_times': 3,\n",
       "   'used_query': 'Jack: What music do you enjoy? Any favorite genres or artists?',\n",
       "   'searched memory': {'text': 'Discussion about hobbies; Jack loves vintage cars, Allen is not interested in them.',\n",
       "    'time': '2024/11/01 12:02'},\n",
       "   'thought': 'The previous searches did not yield any relevant information about my music preferences. A different approach focusing on artists or songs might uncover something useful.',\n",
       "   'evdience': [],\n",
       "   'next_action': 'retry'},\n",
       "  {'search_times': 4,\n",
       "   'used_query': 'Jack: What artists or songs do you enjoy listening to in your free time?',\n",
       "   'searched memory': {'text': 'Allen and Jack discuss their well-being, Jack mentions relaxing with his two dogs.',\n",
       "    'time': '2024/11/01 12:00'},\n",
       "   'thought': 'The previous searches did not yield specific information about my music preferences. I should try a different query to uncover any insights.',\n",
       "   'evdience': [],\n",
       "   'next_action': 'retry'}]}"
      ]
     },
     "execution_count": 7,
     "metadata": {},
     "output_type": "execute_result"
    }
   ],
   "source": [
    "long_mem.recall_search_record"
   ]
  },
  {
   "cell_type": "code",
   "execution_count": 3,
   "metadata": {},
   "outputs": [
    {
     "data": {
      "text/plain": [
       "[{'group': 'Discussion about hobbies; Jack loves vintage cars, Allen is not interested in them.',\n",
       "  'children': [{'text': \"Allen:I work in a homeless shelter in my town., Jack:Good for you. Do you like vintage cars? I've two older mustangs.\",\n",
       "    'time': '2024/11/01 12:02'},\n",
       "   {'text': 'Allen:Cool. Not really into cars. My day job is wrestling., Jack:Cars are my thing. Vintage cars. I love working on them. Wrestling? Do you enjoy it?',\n",
       "    'time': '2024/11/01 12:03'},\n",
       "   {'text': \"Allen:What are doing with those two?, Jack:The 68 is a daily driver, at least during the summer.  The Hertz clone is a trailer queen.  I'm too afraid of paying for on  the road insurance.   \",\n",
       "    'time': '2024/11/01 12:09'},\n",
       "   {'text': \"Allen:How long have you been doing this?, Jack:Ummmm, off and on, since 1989.  It's a hobby that takes a lot of devotion.  It can be expensive, but it doesn't always have to be.\",\n",
       "    'time': '2024/11/01 12:10'},\n",
       "   {'text': 'Allen:This sounds fun. Do you have any other hobby?, Jack:Well I do like to listen to classic country, and I do have my two dogs, \"Baron Zemo\" and \"Spike.\"   What about you, how do you like wrestling as your day job?',\n",
       "    'time': '2024/11/01 12:11'}]},\n",
       " {'group': 'Allen enjoys wrestling, while Jack prefers being alone, avoiding crowds.',\n",
       "  'children': [{'text': \"Allen:Yes, I love the crowds, getting to know people., Jack:I didn't think about the crowd aspect of wrestling. I do not like crowds.\",\n",
       "    'time': '2024/11/01 12:04'},\n",
       "   {'text': 'Allen:Understood. When I need to be alone, I work out a few times each week., Jack:I agree. Working out is a great way to burn off steam. Do you like country music?',\n",
       "    'time': '2024/11/01 12:05'},\n",
       "   {'text': \"Allen:A little bit. I can get into taylor swift., Jack:Lol. She's more pop now. Her old stuff was country. I like classic country.\",\n",
       "    'time': '2024/11/01 12:06'},\n",
       "   {'text': \"Allen:I'm not super into wrestling. , Jack:Ah, now that makes sense.  I guess it's like an engineer that doesn't like to fix stuff around the house.  Well, work is work, I guess.\",\n",
       "    'time': '2024/11/01 12:12'}]},\n",
       " {'group': 'Allen talks about volunteering at a homeless shelter, Jack shows interest in it.',\n",
       "  'children': [{'text': \"Allen:Great. In my spare time I do volunteer work., Jack:That's neat. What kind of volunteer work do you do?\",\n",
       "    'time': '2024/11/01 12:01'},\n",
       "   {'text': \"Allen:I work in a homeless shelter in my town., Jack:Good for you. Do you like vintage cars? I've two older mustangs.\",\n",
       "    'time': '2024/11/01 12:02'},\n",
       "   {'text': 'Allen:What kind of dogs do you have?, Jack:One is a terrier and one is a sheep dog.   How long have you been volunteering?',\n",
       "    'time': '2024/11/01 12:07'},\n",
       "   {'text': \"Allen:I have been volunteering for last 7 years, Jack:Nice.  I try to, but I've been working on the two Mustangs.  One is a 68 and the other is a 66 Hertz clone.\",\n",
       "    'time': '2024/11/01 12:08'},\n",
       "   {'text': \"Allen:How long have you been doing this?, Jack:Ummmm, off and on, since 1989.  It's a hobby that takes a lot of devotion.  It can be expensive, but it doesn't always have to be.\",\n",
       "    'time': '2024/11/01 12:10'}]},\n",
       " {'group': 'Allen and Jack discuss mental stamina required in wrestling and car repair; both share their frustrations and respect for these skills.',\n",
       "  'children': [{'text': \"Allen:Yes, getting beat is not a highlight but makes you want to train even harder! And working up a sweat is no joke! Ha ha. , Jack:I definitely respect the mental stamina needed, too. I could learn some more of that, sometimes working on my car gets me so frustrated I can't stand it, ha!\",\n",
       "    'time': '2024/11/01 12:23'},\n",
       "   {'text': \"Allen:I can see that. I have attempted to work on cars, I don't have the patience for it! I need to keep moving!, Jack:It's definitely an acquired thing. The word needs mechanics and wrestlers, ha!\",\n",
       "    'time': '2024/11/01 12:24'}]},\n",
       " {'group': 'Allen and Jack discuss their well-being, Jack mentions relaxing with his two dogs.',\n",
       "  'children': [{'text': \"Allen:Hi! How are you doing tonight?, Jack:I'm doing great. Just relaxing with my two dogs.\",\n",
       "    'time': '2024/11/01 12:00'}]},\n",
       " {'group': \"Allen hopes Jack recovers quickly and learns he's a dog trainer. They bond over their struggles and mention the idea of turning their experiences into a country song.\",\n",
       "  'children': [{'text': \"Allen:That's unfortunate. I'm hoping you'll make a speedy recovery! What's your day job?, Jack:I'm a dog trainer!  I guess I'm not that good\",\n",
       "    'time': '2024/11/01 12:15'},\n",
       "   {'text': \"Allen:Haha well I suppose no one is perfect. Given my recent string of lost matches, I can't say I'm doing much better., Jack:Yeah between the both of us, could probably get a country song written about our distresses...perhaps Taylor Swift could perform it.\",\n",
       "    'time': '2024/11/01 12:16'}]},\n",
       " {'group': \"Jack shares his dogs' names and an injury from rough housing with them.\",\n",
       "  'children': [{'text': \"Allen:How's work on the Mustang coming?, Jack:Not so good, I got bit by one of my dogs and needed stiches in my hand so haven't been able to make much progress.\",\n",
       "    'time': '2024/11/01 12:13'},\n",
       "   {'text': \"Allen:I'm so sorry to hear that! How on earth did that happen?, Jack:Just a little rough housing that went a bit too far.  \",\n",
       "    'time': '2024/11/01 12:14'}]},\n",
       " {'group': 'Allen shares how he got into wrestling after being approached by a trainer, while Jack expresses concern about his ability to wrestle.',\n",
       "  'children': [{'text': \"Allen:I work out a few times a week and a trainer came over and asked if I was interested in wrestling and gave it a go! Have you ever wrestled? , Jack:No I haven't, I think I'd be terrible at it! Does it take you a long time to recover? It looks so physical and exhuasting!\",\n",
       "    'time': '2024/11/01 12:21'},\n",
       "   {'text': \"Allen:No different in my opinion then working out at the gym, keeps your mind focused! You should try it sometime, I think you would like wrestling!, Jack:I can definitely see how it would be cathartic, although I'm so worried about getting my ass whooped I'm sure I'd be terrible. But it's all about working up a sweat, right?\",\n",
       "    'time': '2024/11/01 12:22'}]},\n",
       " {'group': 'Discussion on car restoration projects. Jack mentions working on a convertible, and they talk about the time required for such projects.',\n",
       "  'children': [{'text': \"Allen:That would be a chart-topper, I'm sure. Something to blast while driving with the top down, maybe even in your next restoration project., Jack:Yes!! Can't wait to get back in the saddle with the restoration.  One of the one's I am working on is a convertible.\",\n",
       "    'time': '2024/11/01 12:17'},\n",
       "   {'text': \"Allen:Sweet! I'm sure that will be an amazing ride once it's finished. How long does a project take to complete, generally speaking?, Jack:For me, I can usually do a full restoration in 6 months if I put in a few hours a day after work.\",\n",
       "    'time': '2024/11/01 12:18'}]},\n",
       " {'group': 'Jack took his dogs for a walk, while Allen describes his busy day volunteering at a homeless shelter.',\n",
       "  'children': [{'text': \"Allen:Did you take your dogs out for a walk today?, Jack:Yes! Thankfully there was enough of a break in the rain to run them around. How's your day been?\",\n",
       "    'time': '2024/11/01 12:19'},\n",
       "   {'text': 'Allen:It has been busy! I volunteered at the homeless shelter this morning. Do you do any volunteering? , Jack:Sadly not. I admire those who do though! Work keeps me so busy, and then I spent time on my car to relax. How did you get into wrestling as a job?',\n",
       "    'time': '2024/11/01 12:20'}]}]"
      ]
     },
     "execution_count": 3,
     "metadata": {},
     "output_type": "execute_result"
    }
   ],
   "source": [
    "long_mem.show_group_and_children()"
   ]
  },
  {
   "cell_type": "code",
   "execution_count": 10,
   "metadata": {},
   "outputs": [
    {
     "data": {
      "text/plain": [
       "[29, 70]"
      ]
     },
     "execution_count": 10,
     "metadata": {},
     "output_type": "execute_result"
    }
   ],
   "source": [
    "error_list"
   ]
  },
  {
   "cell_type": "code",
   "execution_count": 66,
   "metadata": {},
   "outputs": [
    {
     "data": {
      "text/plain": [
       "{'search times': 1,\n",
       " 'used queries': ['Jack:Hey, remember that time we talked about our favorite movies? What was yours?'],\n",
       " 'searched memory': [{'text': 'Allen and Jack discuss their preferences in movie genres, primarily comedies and nature documentaries.',\n",
       "   'time': '2024/11/01 12:15'}],\n",
       " 'thought': \"I found detailed memories of our conversation about movie preferences, highlighting that I enjoy nature documentaries, particularly the BBC series 'Blue Planet II', while Jack enjoys comedies like 'Clueless'.\",\n",
       " 'evidence': [{'text': \"Allen: I haven't. I'm not really into comedies, because I don't really have a sophisticated sense of humor. What genre do you think your first book will be?, Jack: it would be the kind of comedy that clueless is. Do you not think of clueless as a comedy?\"},\n",
       "  {'text': \"Allen: Yeah, I think so. But what I enjoy the most is nature documentaries. I like learning new things, and so I'll sometimes spend the whole day knitting and watching wildlife on tv!\"},\n",
       "  {'text': \"Allen: My favorite is Blue Planet II. I think the music is just top notch. And I love the footage of the deep sea creatures! They're so alien-looking.\"}]}"
      ]
     },
     "execution_count": 66,
     "metadata": {},
     "output_type": "execute_result"
    }
   ],
   "source": [
    "index=6\n",
    "eval(answer_df['long_mem_recall_result'][index])"
   ]
  },
  {
   "cell_type": "code",
   "execution_count": 12,
   "metadata": {},
   "outputs": [
    {
     "data": {
      "text/html": [
       "<div>\n",
       "<style scoped>\n",
       "    .dataframe tbody tr th:only-of-type {\n",
       "        vertical-align: middle;\n",
       "    }\n",
       "\n",
       "    .dataframe tbody tr th {\n",
       "        vertical-align: top;\n",
       "    }\n",
       "\n",
       "    .dataframe thead th {\n",
       "        text-align: right;\n",
       "    }\n",
       "</style>\n",
       "<table border=\"1\" class=\"dataframe\">\n",
       "  <thead>\n",
       "    <tr style=\"text-align: right;\">\n",
       "      <th></th>\n",
       "      <th>dialog</th>\n",
       "      <th>question</th>\n",
       "      <th>gold_answer</th>\n",
       "      <th>long_mem_result</th>\n",
       "      <th>long_mem_answer</th>\n",
       "      <th>long_mem_f1</th>\n",
       "      <th>long_mem_rc</th>\n",
       "      <th>long_mem_pre</th>\n",
       "      <th>long_mem_recall_result</th>\n",
       "      <th>long_mem_recall_answer</th>\n",
       "      <th>long_mem_recall_f1</th>\n",
       "      <th>long_mem_recall_rc</th>\n",
       "      <th>long_mem_recall_pre</th>\n",
       "    </tr>\n",
       "  </thead>\n",
       "  <tbody>\n",
       "    <tr>\n",
       "      <th>0</th>\n",
       "      <td>[[{'text': \"Allen:Hi! How are you doing tonigh...</td>\n",
       "      <td>Jack:Hey, remember that time we talked about m...</td>\n",
       "      <td>Taylor Swift!</td>\n",
       "      <td>{'closest_summary': {'text': 'Allen and Jack t...</td>\n",
       "      <td>The document does not mention any specific art...</td>\n",
       "      <td>NaN</td>\n",
       "      <td>NaN</td>\n",
       "      <td>NaN</td>\n",
       "      <td>{'search times': 4, 'used queries': ['Jack:Hey...</td>\n",
       "      <td>I mentioned that I could get into Taylor Swift.</td>\n",
       "      <td>NaN</td>\n",
       "      <td>NaN</td>\n",
       "      <td>NaN</td>\n",
       "    </tr>\n",
       "    <tr>\n",
       "      <th>1</th>\n",
       "      <td>[[{'text': 'Allen:Hello, how are you doing?, J...</td>\n",
       "      <td>Jack:Hey, remember that time we talked about o...</td>\n",
       "      <td>I eat a fresh and raw diet to save on groceries.</td>\n",
       "      <td>{'closest_summary': {'text': 'Allen shares his...</td>\n",
       "      <td>Allen saved money by primarily eating a fresh ...</td>\n",
       "      <td>NaN</td>\n",
       "      <td>NaN</td>\n",
       "      <td>NaN</td>\n",
       "      <td>{'search times': 1, 'used queries': ['Jack:Hey...</td>\n",
       "      <td>I mentioned that I mostly eat a fresh and raw ...</td>\n",
       "      <td>NaN</td>\n",
       "      <td>NaN</td>\n",
       "      <td>NaN</td>\n",
       "    </tr>\n",
       "    <tr>\n",
       "      <th>2</th>\n",
       "      <td>[[{'text': 'Allen:Hello what are doing today?,...</td>\n",
       "      <td>Jack:Hey, remember that time we talked about o...</td>\n",
       "      <td>I used to work in the human services field.</td>\n",
       "      <td>{'closest_summary': {'text': \"Allen and Jack d...</td>\n",
       "      <td>I used to work in the human services field.</td>\n",
       "      <td>NaN</td>\n",
       "      <td>NaN</td>\n",
       "      <td>NaN</td>\n",
       "      <td>{'search times': 1, 'used queries': ['Jack:Hey...</td>\n",
       "      <td>Allen used to work in the human services field.</td>\n",
       "      <td>NaN</td>\n",
       "      <td>NaN</td>\n",
       "      <td>NaN</td>\n",
       "    </tr>\n",
       "    <tr>\n",
       "      <th>3</th>\n",
       "      <td>[[{'text': \"Allen:How are you? I'm tired of my...</td>\n",
       "      <td>Jack:Hey, remember that time we talked about o...</td>\n",
       "      <td>Burger King!</td>\n",
       "      <td>{'closest_summary': {'text': 'Conversation abo...</td>\n",
       "      <td>Allen: I have a part-time job at Burger King.</td>\n",
       "      <td>NaN</td>\n",
       "      <td>NaN</td>\n",
       "      <td>NaN</td>\n",
       "      <td>{'search times': 1, 'used queries': [\"Jack:Hey...</td>\n",
       "      <td>Sure! I work at Burger King.</td>\n",
       "      <td>NaN</td>\n",
       "      <td>NaN</td>\n",
       "      <td>NaN</td>\n",
       "    </tr>\n",
       "    <tr>\n",
       "      <th>4</th>\n",
       "      <td>[[{'text': 'Allen:Hi, how are you doing today?...</td>\n",
       "      <td>Jack:Hey, remember that time we talked about o...</td>\n",
       "      <td>Three miles!</td>\n",
       "      <td>{'closest_summary': {'text': 'Allen and Jack d...</td>\n",
       "      <td>I mentioned that I like to walk three miles fo...</td>\n",
       "      <td>NaN</td>\n",
       "      <td>NaN</td>\n",
       "      <td>NaN</td>\n",
       "      <td>{'search times': 1, 'used queries': ['Jack:Hey...</td>\n",
       "      <td>I mentioned that I like to walk for a small wo...</td>\n",
       "      <td>NaN</td>\n",
       "      <td>NaN</td>\n",
       "      <td>NaN</td>\n",
       "    </tr>\n",
       "  </tbody>\n",
       "</table>\n",
       "</div>"
      ],
      "text/plain": [
       "                                              dialog  \\\n",
       "0  [[{'text': \"Allen:Hi! How are you doing tonigh...   \n",
       "1  [[{'text': 'Allen:Hello, how are you doing?, J...   \n",
       "2  [[{'text': 'Allen:Hello what are doing today?,...   \n",
       "3  [[{'text': \"Allen:How are you? I'm tired of my...   \n",
       "4  [[{'text': 'Allen:Hi, how are you doing today?...   \n",
       "\n",
       "                                            question  \\\n",
       "0  Jack:Hey, remember that time we talked about m...   \n",
       "1  Jack:Hey, remember that time we talked about o...   \n",
       "2  Jack:Hey, remember that time we talked about o...   \n",
       "3  Jack:Hey, remember that time we talked about o...   \n",
       "4  Jack:Hey, remember that time we talked about o...   \n",
       "\n",
       "                                        gold_answer  \\\n",
       "0                                     Taylor Swift!   \n",
       "1  I eat a fresh and raw diet to save on groceries.   \n",
       "2       I used to work in the human services field.   \n",
       "3                                      Burger King!   \n",
       "4                                      Three miles!   \n",
       "\n",
       "                                     long_mem_result  \\\n",
       "0  {'closest_summary': {'text': 'Allen and Jack t...   \n",
       "1  {'closest_summary': {'text': 'Allen shares his...   \n",
       "2  {'closest_summary': {'text': \"Allen and Jack d...   \n",
       "3  {'closest_summary': {'text': 'Conversation abo...   \n",
       "4  {'closest_summary': {'text': 'Allen and Jack d...   \n",
       "\n",
       "                                     long_mem_answer  long_mem_f1  \\\n",
       "0  The document does not mention any specific art...          NaN   \n",
       "1  Allen saved money by primarily eating a fresh ...          NaN   \n",
       "2        I used to work in the human services field.          NaN   \n",
       "3      Allen: I have a part-time job at Burger King.          NaN   \n",
       "4  I mentioned that I like to walk three miles fo...          NaN   \n",
       "\n",
       "   long_mem_rc  long_mem_pre  \\\n",
       "0          NaN           NaN   \n",
       "1          NaN           NaN   \n",
       "2          NaN           NaN   \n",
       "3          NaN           NaN   \n",
       "4          NaN           NaN   \n",
       "\n",
       "                              long_mem_recall_result  \\\n",
       "0  {'search times': 4, 'used queries': ['Jack:Hey...   \n",
       "1  {'search times': 1, 'used queries': ['Jack:Hey...   \n",
       "2  {'search times': 1, 'used queries': ['Jack:Hey...   \n",
       "3  {'search times': 1, 'used queries': [\"Jack:Hey...   \n",
       "4  {'search times': 1, 'used queries': ['Jack:Hey...   \n",
       "\n",
       "                              long_mem_recall_answer  long_mem_recall_f1  \\\n",
       "0    I mentioned that I could get into Taylor Swift.                 NaN   \n",
       "1  I mentioned that I mostly eat a fresh and raw ...                 NaN   \n",
       "2    Allen used to work in the human services field.                 NaN   \n",
       "3                       Sure! I work at Burger King.                 NaN   \n",
       "4  I mentioned that I like to walk for a small wo...                 NaN   \n",
       "\n",
       "   long_mem_recall_rc  long_mem_recall_pre  \n",
       "0                 NaN                  NaN  \n",
       "1                 NaN                  NaN  \n",
       "2                 NaN                  NaN  \n",
       "3                 NaN                  NaN  \n",
       "4                 NaN                  NaN  "
      ]
     },
     "execution_count": 12,
     "metadata": {},
     "output_type": "execute_result"
    }
   ],
   "source": [
    "answer_df.head()"
   ]
  },
  {
   "cell_type": "markdown",
   "metadata": {},
   "source": [
    "### Short memory"
   ]
  },
  {
   "cell_type": "code",
   "execution_count": null,
   "metadata": {},
   "outputs": [],
   "source": [
    "import pandas as pd\n",
    "\n",
    "df = pd.read_json(\"msc_self_instruct.jsonl\", lines=True)\n",
    "\n",
    "s_answer_df = pd.DataFrame()\n",
    "s_answer_df['dialog'] = None\n",
    "s_answer_df['question'] = None\n",
    "s_answer_df['gold_answer'] = None\n",
    "s_answer_df['short_mem_result'] = None\n",
    "s_answer_df['short_mem_answer'] = None\n",
    "s_answer_df['short_mem_f1'] = None\n",
    "s_answer_df['short_mem_rc'] = None\n",
    "s_answer_df['short_mem_pre'] = None\n",
    "\n",
    "for i in range(500):\n",
    "    # Add dialog\n",
    "    current_time = datetime.strptime(\"2024/11/1 12:00\", \"%Y/%m/%d %H:%M\")\n",
    "    dialog_data = []\n",
    "    for dialog_session in df['previous_dialogs'][i]:\n",
    "        session = []\n",
    "        for count in range(int(len(dialog_session['dialog'])/2)):\n",
    "            chat_log = {\"assistant\":f\"{dialog_session['dialog'][2*count]['text']}\", \n",
    "                        \"user\":f\"{dialog_session['dialog'][2*count+1]['text']}\", \n",
    "                        \"time\":current_time.strftime(\"%Y-%m-%dT%H:%M:%SZ\")}\n",
    "            session.append(chat_log)\n",
    "            current_time = current_time + timedelta(minutes=1)\n",
    "        dialog_data.append(session)\n",
    "    s_answer_df.loc[i, 'dialog'] = str(dialog_data)\n",
    "    \n",
    "    # Add question & answer\n",
    "    s_answer_df.loc[i, 'question'] = f\"user:{df['self_instruct'][i]['B']}\"\n",
    "    s_answer_df.loc[i, 'gold_answer'] = f\"{df['self_instruct'][i]['A']}\"\n",
    "s_answer_df.to_json(\"s_MSC_datasets.json\", orient=\"records\", lines=True)"
   ]
  },
  {
   "cell_type": "code",
   "execution_count": null,
   "metadata": {},
   "outputs": [],
   "source": [
    "import pandas as pd\n",
    "\n",
    "s_answer_df = pd.read_json(\"s_MSC_datasets.json\", lines=True)\n",
    "# s_answer_df = pd.read_json(\"s_MSC_eval.json\", lines=True)"
   ]
  },
  {
   "cell_type": "code",
   "execution_count": null,
   "metadata": {},
   "outputs": [],
   "source": [
    "from short_memory.component import WeaviateShortMemory\n",
    "short_mem = WeaviateShortMemory()"
   ]
  },
  {
   "cell_type": "code",
   "execution_count": null,
   "metadata": {},
   "outputs": [],
   "source": [
    "from dotenv import load_dotenv\n",
    "from openai import OpenAI\n",
    "import os\n",
    "\n",
    "load_dotenv()\n",
    "client = OpenAI(api_key=os.getenv(\"OPENAI_API_KEY\"))\n",
    "\n",
    "def llm_create(prompt):\n",
    "        messages = [{\"role\": \"user\", \"content\": prompt}]\n",
    "        completion = client.chat.completions.create(\n",
    "            model=\"gpt-4o-mini\",\n",
    "            messages=messages,\n",
    "        )\n",
    "        return completion.choices[0].message.content\n",
    "\n",
    "answer_prompt = \"\"\"Base on the following document and answer the question.\n",
    "Try use origin text in the evidence field to repeat a brief answer.\n",
    "\n",
    "Question:{question}\n",
    "\n",
    "Document:{docs}\n",
    "\"\"\""
   ]
  },
  {
   "cell_type": "code",
   "execution_count": null,
   "metadata": {},
   "outputs": [],
   "source": [
    "error_list = []\n",
    "for i in range(100):\n",
    "    print(f'==={i}===')\n",
    "    try:\n",
    "        # generate result\n",
    "        short_mem.del_memory()\n",
    "        dialogs = []\n",
    "        for dialog_session in eval(s_answer_df.loc[i, 'dialog']):\n",
    "            dialogs.extend(dialog_session)\n",
    "        short_mem.add_chatlogs(dialogs)\n",
    "        question = f\"{answer_df.loc[i, 'question']}\"\n",
    "        s_answer_df.loc[i, 'short_mem_result'] = str(short_mem.get_memory(question))\n",
    "        \n",
    "        # response\n",
    "        p = answer_prompt.format(question=answer_df.loc[i, 'question'], docs=answer_df.loc[i, 'short_mem_result'])\n",
    "        short_mem_answer = llm_create(p)\n",
    "        s_answer_df.loc[i, 'short_mem_answer'] = short_mem_answer\n",
    "    except Exception as e:\n",
    "        error_list.append(i)\n",
    "        print(f'----error:{e}----')\n",
    "    if (i+1)%20==0:\n",
    "        s_answer_df.to_json(\"s_MSC_eval.json\", orient=\"records\", lines=True)\n",
    "s_answer_df.to_json(\"s_MSC_eval.json\", orient=\"records\", lines=True)"
   ]
  }
 ],
 "metadata": {
  "kernelspec": {
   "display_name": "Python 3",
   "language": "python",
   "name": "python3"
  },
  "language_info": {
   "codemirror_mode": {
    "name": "ipython",
    "version": 3
   },
   "file_extension": ".py",
   "mimetype": "text/x-python",
   "name": "python",
   "nbconvert_exporter": "python",
   "pygments_lexer": "ipython3",
   "version": "3.10.12"
  }
 },
 "nbformat": 4,
 "nbformat_minor": 2
}
