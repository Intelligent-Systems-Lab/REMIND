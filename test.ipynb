{
 "cells": [
  {
   "cell_type": "markdown",
   "metadata": {},
   "source": [
    "Test short memory dump to Long memory"
   ]
  },
  {
   "cell_type": "code",
   "execution_count": 1,
   "metadata": {},
   "outputs": [],
   "source": [
    "from long_memory.component import WeaviateLongMemory\n",
    "from short_memory.component import WeaviateShortMemory"
   ]
  },
  {
   "cell_type": "code",
   "execution_count": 2,
   "metadata": {},
   "outputs": [
    {
     "name": "stdout",
     "output_type": "stream",
     "text": [
      "Detect existed deafult user group memory space, loading...\n",
      "Detect existed deafult user child memory space, loading...\n",
      "Detect existed deafult user short memory space, loading...\n"
     ]
    }
   ],
   "source": [
    "long_mem = WeaviateLongMemory()\n",
    "short_mem = WeaviateShortMemory()"
   ]
  },
  {
   "cell_type": "code",
   "execution_count": 3,
   "metadata": {},
   "outputs": [
    {
     "name": "stdout",
     "output_type": "stream",
     "text": [
      "Detect empty group memory, create memory space...\n",
      "Detect empty child memory, create memory space...\n",
      "Detect empty short memory, create memory space...\n"
     ]
    }
   ],
   "source": [
    "long_mem.del_memory()\n",
    "short_mem.del_memory()"
   ]
  },
  {
   "cell_type": "code",
   "execution_count": 4,
   "metadata": {},
   "outputs": [],
   "source": [
    "chatlogs = [\n",
    "  {\"assistant\": \"Hi there, how are you doing today?\", \"user\": \"Hi. I'm doing good, thanks for asking. How about you?\", \"time\": \"2024-10-31T04:18:00Z\"},\n",
    "  {\"assistant\": \"I'm feeling great actually, especially after helping you carry your groceries to your car yesterday.\", \"user\": \"Oh yes, thank you so much for helping me out! It was so kind of you.\", \"time\": \"2024-10-31T04:19:00Z\"},\n",
    "  {\"assistant\": \"It was my pleasure. It felt good to be able to help you. We are neighbors after all.\", \"user\": \"Absolutely! I really appreciate your kindness. If you ever need any help with anything, don't hesitate to ask.\", \"time\": \"2024-10-31T04:20:00Z\"},\n",
    "  {\"assistant\": \"I appreciate that. I'm always here to lend a helping hand if you need it too.\", \"user\": \"That's great to hear. You know, it reminds me of the time when my car got stuck in the snow and you helped me dig it out.\", \"time\": \"2024-10-31T04:21:00Z\"},\n",
    "  {\"assistant\": \"Oh yeah, I remember that. It was quite the winter storm that day.\", \"user\": \"It definitely was. But I was so grateful that you were there to help. You're a great neighbor.\", \"time\": \"2024-10-31T04:22:00Z\"},\n",
    "  {\"assistant\": \"Thank you, I try my best. It's nice to know we can count on each other in times of need.\", \"user\": \"Absolutely. We really do live in a great neighborhood filled with caring and helpful people.\", \"time\": \"2024-10-31T04:23:00Z\"}\n",
    "]"
   ]
  },
  {
   "cell_type": "code",
   "execution_count": 5,
   "metadata": {},
   "outputs": [],
   "source": [
    "short_mem.add_chatlogs(chatlogs)"
   ]
  },
  {
   "cell_type": "code",
   "execution_count": 6,
   "metadata": {},
   "outputs": [
    {
     "name": "stdout",
     "output_type": "stream",
     "text": [
      "Dump short memory success.\n"
     ]
    },
    {
     "data": {
      "text/plain": [
       "[{'text': \"assistant:Thank you, I try my best. It's nice to know we can count on each other in times of need., user:Absolutely. We really do live in a great neighborhood filled with caring and helpful people.\",\n",
       "  'time': datetime.datetime(2024, 10, 31, 4, 23, tzinfo=datetime.timezone.utc)},\n",
       " {'text': \"assistant:I appreciate that. I'm always here to lend a helping hand if you need it too., user:That's great to hear. You know, it reminds me of the time when my car got stuck in the snow and you helped me dig it out.\",\n",
       "  'time': datetime.datetime(2024, 10, 31, 4, 21, tzinfo=datetime.timezone.utc)},\n",
       " {'text': \"assistant:Oh yeah, I remember that. It was quite the winter storm that day., user:It definitely was. But I was so grateful that you were there to help. You're a great neighbor.\",\n",
       "  'time': datetime.datetime(2024, 10, 31, 4, 22, tzinfo=datetime.timezone.utc)},\n",
       " {'text': \"assistant:It was my pleasure. It felt good to be able to help you. We are neighbors after all., user:Absolutely! I really appreciate your kindness. If you ever need any help with anything, don't hesitate to ask.\",\n",
       "  'time': datetime.datetime(2024, 10, 31, 4, 20, tzinfo=datetime.timezone.utc)},\n",
       " {'text': \"assistant:I'm feeling great actually, especially after helping you carry your groceries to your car yesterday., user:Oh yes, thank you so much for helping me out! It was so kind of you.\",\n",
       "  'time': datetime.datetime(2024, 10, 31, 4, 19, tzinfo=datetime.timezone.utc)},\n",
       " {'text': \"assistant:Hi there, how are you doing today?, user:Hi. I'm doing good, thanks for asking. How about you?\",\n",
       "  'time': datetime.datetime(2024, 10, 31, 4, 18, tzinfo=datetime.timezone.utc)}]"
      ]
     },
     "execution_count": 6,
     "metadata": {},
     "output_type": "execute_result"
    }
   ],
   "source": [
    "data = short_mem.dump_memory(False)\n",
    "data"
   ]
  },
  {
   "cell_type": "code",
   "execution_count": 7,
   "metadata": {},
   "outputs": [],
   "source": [
    "long_mem.add_chat_logs(data)"
   ]
  },
  {
   "cell_type": "code",
   "execution_count": 4,
   "metadata": {},
   "outputs": [
    {
     "name": "stdout",
     "output_type": "stream",
     "text": [
      "{'id': '917b4d2d-7188-4754-af8e-85d4eb4b529f', 'text': 'user expressed gratitude towards assistant for helping with car stuck in snow and carrying groceries, highlighting their supportive neighborly relationship on October 31, 2024.'}\n"
     ]
    }
   ],
   "source": [
    "long_mem.show_all_groups()"
   ]
  },
  {
   "cell_type": "code",
   "execution_count": 5,
   "metadata": {},
   "outputs": [
    {
     "name": "stdout",
     "output_type": "stream",
     "text": [
      "{'id': '1bfef293-8ba1-4a11-b9b9-f30b85b27990', 'text': \"assistant:I'm feeling great actually, especially after helping you carry your groceries to your car yesterday., user:Oh yes, thank you so much for helping me out! It was so kind of you., time: 2024-10-31 04:19:00 UTC\"}\n",
      "{'id': '289af5e5-2abf-42b9-96c2-3d3dc4d9c3c3', 'text': \"assistant:Thank you, I try my best. It's nice to know we can count on each other in times of need., user:Absolutely. We really do live in a great neighborhood filled with caring and helpful people., time: 2024-10-31 04:23:00 UTC\"}\n",
      "{'id': '655dad2c-bfc2-48cd-b164-274f035389d3', 'text': \"assistant:Hi there, how are you doing today?, user:Hi. I'm doing good, thanks for asking. How about you?, time: 2024-10-31 04:18:00 UTC\"}\n",
      "{'id': '85c03eff-56bf-49e0-8939-e5835e792ee4', 'text': \"assistant:It was my pleasure. It felt good to be able to help you. We are neighbors after all., user:Absolutely! I really appreciate your kindness. If you ever need any help with anything, don't hesitate to ask., time: 2024-10-31 04:20:00 UTC\"}\n",
      "{'id': 'a2288766-65e0-45b7-aed7-163ae5fc1b03', 'text': \"assistant:I appreciate that. I'm always here to lend a helping hand if you need it too., user:That's great to hear. You know, it reminds me of the time when my car got stuck in the snow and you helped me dig it out., time: 2024-10-31 04:21:00 UTC\"}\n",
      "{'id': 'b805d75c-ed6f-4217-bbf7-4b91debce662', 'text': \"assistant:Oh yeah, I remember that. It was quite the winter storm that day., user:It definitely was. But I was so grateful that you were there to help. You're a great neighbor., time: 2024-10-31 04:22:00 UTC\"}\n"
     ]
    }
   ],
   "source": [
    "long_mem.show_all_children()"
   ]
  },
  {
   "cell_type": "markdown",
   "metadata": {},
   "source": [
    "The full workflow"
   ]
  },
  {
   "cell_type": "code",
   "execution_count": 1,
   "metadata": {},
   "outputs": [
    {
     "name": "stdout",
     "output_type": "stream",
     "text": [
      "Detect existed deafult user short memory space, loading...\n",
      "Detect existed deafult user group memory space, loading...\n",
      "Detect existed deafult user child memory space, loading...\n"
     ]
    }
   ],
   "source": [
    "from component import MemLLM\n",
    "\n",
    "agent = MemLLM()"
   ]
  },
  {
   "cell_type": "code",
   "execution_count": 2,
   "metadata": {},
   "outputs": [],
   "source": [
    "agent.long_memory.show_all_children()"
   ]
  },
  {
   "cell_type": "code",
   "execution_count": null,
   "metadata": {},
   "outputs": [],
   "source": [
    "agent.short_memory.show_memory()"
   ]
  },
  {
   "cell_type": "markdown",
   "metadata": {},
   "source": [
    "First run"
   ]
  },
  {
   "cell_type": "code",
   "execution_count": 5,
   "metadata": {},
   "outputs": [
    {
     "name": "stdout",
     "output_type": "stream",
     "text": [
      "\u001b[33mStarting chat, type 'exit' to exit\u001b[0m\n",
      "\u001b[31mSearch long memory, short memory\u001b[0m\n",
      "user:I want to share a book I read last week\n",
      "assistant:That sounds great! I’d love to hear about the book you read. What was it about, and what did you think of it?\n",
      "\u001b[31mSearch long memory, short memory\u001b[0m\n",
      "user:\"Harry Potter\" is a captivating fantasy series written by J.K. Rowling, primarily following the journey of a young boy named Harry Potter who discovers he is a wizard on his eleventh birthday. Orphaned as a baby and raised by unkind relatives, Harry’s life changes completely when he receives an invitation to attend Hogwarts School of Witchcraft and Wizardry. There, he meets friends like Ron Weasley and Hermione Granger, learns about magic, and uncovers the truth about his parents’ mysterious death.  As Harry navigates life at Hogwarts, he also encounters dark forces led by Lord Voldemort, an evil wizard who aims to take over the magical world and eliminate Harry, the only person ever to survive Voldemort's deadly curse. Throughout the series, Harry faces numerous trials and dangerous adventures, discovering courage, loyalty, and the strength of friendship. Each book unfolds a thrilling mix of mystery, magic, and suspense, exploring timeless themes of bravery, love, and the battle between good and evil. Rowling’s richly crafted world and memorable characters have made Harry Potter a global phenomenon, capturing the hearts of readers of all ages.\n",
      "assistant:That’s such a fantastic summary of the *Harry Potter* series! It really does capture the magic and adventure that make those books so special. Do you have a favorite book or character from the series?\n",
      "\u001b[31mSearch long memory, short memory\u001b[0m\n",
      "user:Harry Potter and the Deathly Hallows is the thrilling conclusion to J.K. Rowling's epic series, following Harry Potter's final confrontation with Lord Voldemort. In this book, Harry, along with his friends Hermione and Ron, leaves Hogwarts and embarks on a dangerous quest to destroy the Horcruxes—objects containing fragments of Voldemort's soul that grant him immortality. Along the way, they uncover the legend of the Deathly Hallows, three powerful magical objects that, if united, could make one a master over death.  The story is intense and fast-paced, filled with moments of suspense, sacrifice, and emotional depth as Harry faces incredible challenges and learns the true cost of his mission. With themes of love, loyalty, and resilience, The Deathly Hallows explores the ultimate battle between good and evil, bringing the series to a powerful and satisfying close that resonates deeply with readers.\n",
      "assistant:You’ve described *Harry Potter and the Deathly Hallows* so well! It really is a deep and intense finale that wraps up Harry's journey beautifully. The themes of love and sacrifice really shine through, especially in the final battles and the decisions Harry has to make. Do you have a favorite moment or scene from this book that really stood out to you?\n",
      "\u001b[31mSearch long memory, short memory\u001b[0m\n",
      "user:I like the character Neville Longbottom: Neville emerges as a true hero in this final installment. He transforms from a shy and timid boy into a brave leader who stands up against Voldemort and his followers. His character arc is inspiring, showcasing his newfound courage and determination to fight for what is right.\n",
      "assistant:Neville Longbottom really does have an incredible transformation throughout the series! In *The Deathly Hallows*, his bravery and leadership shine, especially when he stands up to Voldemort and rallies his friends during such a dark time. It’s so rewarding to see a character who struggled in the beginning become a key player in the fight against evil. What do you think made his growth so impactful for you?\n",
      "\u001b[31mSearch long memory, short memory\u001b[0m\n",
      "user:I love the The Forbidden Forest: This mysterious forest becomes a poignant setting for Harry's ultimate confrontation with Voldemort. The forest symbolizes the unknown and the inevitability of death. It is here that Harry faces his destiny, making the forest a place of both fear and acceptance.\n",
      "assistant:The Forbidden Forest is such a significant location in *The Deathly Hallows*! It holds so much weight during Harry's encounter with Voldemort. The symbolism of the forest as a representation of the unknown and acceptance of death adds so much depth to that moment. It’s a place where fears are confronted and destinies are realized. What were your feelings during that scene? Did you find it to be an emotional moment?\n",
      "\u001b[31mSearch long memory, short memory\u001b[0m\n",
      "user:I want to ask some cloud computing question\n",
      "assistant:Sure! Feel free to ask your cloud computing question, and I'll do my best to help you out. What are you curious about?\n",
      "\u001b[34mExtracting chat log to short memory...\u001b[0m\n",
      "\u001b[34mDone.\u001b[0m\n",
      "\u001b[31mSearch long memory, short memory\u001b[0m\n",
      "user:what is k8s\n",
      "assistant:K8s, or Kubernetes, is an open-source platform designed to automate the deployment, scaling, and management of containerized applications. It's particularly useful for managing microservices architecture, where applications are broken into smaller, manageable components called containers. Kubernetes helps orchestrate these containers, ensuring that they run efficiently and can scale according to demand, recover from failures automatically, and maintain the desired state of the application. \n",
      "\n",
      "Do you have any specific aspects of Kubernetes you're interested in, like how to get started with it or its key features?\n",
      "\u001b[31mSearch long memory, short memory\u001b[0m\n",
      "user:what is edge computing\n",
      "assistant:Edge computing is a computing paradigm that brings computation and data storage closer to the sources of data, such as IoT devices or local edge servers, rather than relying solely on a centralized cloud data center. This approach helps reduce latency and bandwidth usage, enabling faster data processing and response times. \n",
      "\n",
      "For example, in applications like autonomous vehicles or smart cities, edge computing allows data to be processed in real-time at the location it is generated, leading to quicker decision-making. This can be especially beneficial for applications that require immediate feedback or analytics.\n",
      "\n",
      "Are you interested in exploring how edge computing compares to cloud computing, or do you have a specific use case in mind?\n",
      "\u001b[31mSearch long memory, short memory\u001b[0m\n",
      "user:I have a Iaas service, is it good to be cloud\n",
      "assistant:It sounds like you're considering using an Infrastructure as a Service (IaaS) solution in the cloud! IaaS can be a great option, especially if you're looking for flexibility and scalability. With IaaS, you can quickly provision resources as needed, scale up or down based on demand, and only pay for what you use. \n",
      "\n",
      "This model is particularly useful for businesses that require quick deployments, want to avoid the hassle of managing physical hardware, or need to support fluctuating workloads. However, it’s also important to assess your specific needs, including security considerations and budget.\n",
      "\n",
      "Do you have any specific concerns about transitioning to IaaS, or are you looking for recommendations on providers?\n",
      "\u001b[31mSearch long memory, short memory\u001b[0m\n",
      "user:thanks\n",
      "assistant:You're welcome! If you have any more questions about cloud computing or anything else on your mind, feel free to ask. Also, if you want to share more about your thoughts on *Harry Potter* or discuss another topic, I'm all ears!\n",
      "\u001b[31mSearch long memory, short memory\u001b[0m\n",
      "user:I properbly want to use amazon\n",
      "assistant:That sounds like a great choice! Amazon Web Services (AWS) is one of the leading cloud computing platforms and offers a wide range of services, including IaaS, PaaS, and SaaS. If you're considering using AWS, you might want to explore services like Amazon EC2 for virtual servers, Amazon S3 for storage, and AWS Lambda for serverless computing.\n",
      "\n",
      "Is there a specific service or feature you're interested in, or do you have any questions about getting started with AWS?\n",
      "\u001b[31mSearch long memory, short memory\u001b[0m\n",
      "user:where is difference between google and amazon\n",
      "assistant:The differences between Google Cloud and Amazon Web Services (AWS) are quite interesting, especially since both platforms have their strengths and are tailored for different user needs. Here are some key points of comparison:\n",
      "\n",
      "1. **Service Offerings**: \n",
      "   - **AWS** offers a wider range of services overall, including more advanced options for computing, storage, databases, and machine learning. It's often considered the more mature platform.\n",
      "   - **Google Cloud** focuses heavily on data analytics, machine learning, and Kubernetes, leveraging Google's strengths in big data and container orchestration.\n",
      "\n",
      "2. **User Interface**:\n",
      "   - **AWS** can be overwhelming due to its vast array of services and complex UI, which might take time to get used to.\n",
      "   - **Google Cloud's** interface is generally considered more user-friendly and intuitive, making it easier for new users to navigate.\n",
      "\n",
      "3. **Pricing**:\n",
      "   - AWS has a complex pricing structure that can become quite costly, particularly for certain services if not managed carefully.\n",
      "   - Google Cloud tends to offer more straightforward pricing and often provides discounts for sustained usage, which can lead to cost savings for long-term projects.\n",
      "\n",
      "4. **Market Focus**: \n",
      "   - AWS is often seen as the go-to option for enterprise-level services and businesses that need a comprehensive suite of cloud solutions.\n",
      "   - Google Cloud appeals more to startups and developers focused on innovation, especially in the fields of AI and data analytics.\n",
      "\n",
      "5. **Multi-Cloud Strategy**:\n",
      "   - Both platforms support multi-cloud strategies, but Google Cloud has been particularly focused on enabling hybrid and multi-cloud environments, often integrating smoothly with other services.\n",
      "\n",
      "6. **Geographic Reach**:\n",
      "   - AWS has a larger global presence with more data centers around the world, which can help with latency and compliance needs.\n",
      "   - Google Cloud is rapidly expanding its infrastructure and network but may not yet match AWS in this aspect.\n",
      "\n",
      "These factors can help guide your decision depending on your specific needs, whether it's for a business, project, or personal use. Are you leaning more toward one platform for a particular application or project?\n",
      "\u001b[34mExtracting chat log to short memory...\u001b[0m\n",
      "\u001b[34mDone.\u001b[0m\n"
     ]
    }
   ],
   "source": [
    "agent.run()"
   ]
  },
  {
   "cell_type": "code",
   "execution_count": 6,
   "metadata": {},
   "outputs": [
    {
     "data": {
      "text/plain": [
       "[]"
      ]
     },
     "execution_count": 6,
     "metadata": {},
     "output_type": "execute_result"
    }
   ],
   "source": [
    "agent.msg_queue"
   ]
  },
  {
   "cell_type": "code",
   "execution_count": 7,
   "metadata": {},
   "outputs": [
    {
     "data": {
      "text/plain": [
       "'The conversation covers explanations of Kubernetes as an open-source platform for managing containerized applications, edge computing as a paradigm for reducing latency by processing data near its source, considerations for using IaaS in cloud services, advantages of Amazon Web Services (AWS) over Google Cloud, and user preferences about cloud platforms.'"
      ]
     },
     "execution_count": 7,
     "metadata": {},
     "output_type": "execute_result"
    }
   ],
   "source": [
    "agent.pre_msg"
   ]
  },
  {
   "cell_type": "markdown",
   "metadata": {},
   "source": [
    "Second run (check short memory)"
   ]
  },
  {
   "cell_type": "code",
   "execution_count": 7,
   "metadata": {},
   "outputs": [
    {
     "name": "stdout",
     "output_type": "stream",
     "text": [
      "\u001b[33mStarting chat, type 'exit' to exit\u001b[0m\n",
      "\u001b[31mSearch long memory, short memory\u001b[0m\n",
      "user:Do you rember the character I like in Harry potter?\n",
      "assistant:Yes, you mentioned that you really like Neville Longbottom! His transformation into a brave leader in \"The Deathly Hallows\" is indeed inspiring. What do you find most compelling about his character arc?\n"
     ]
    }
   ],
   "source": [
    "agent.run()"
   ]
  },
  {
   "cell_type": "code",
   "execution_count": 3,
   "metadata": {},
   "outputs": [
    {
     "name": "stdout",
     "output_type": "stream",
     "text": [
      "Dump short memory success.\n",
      "Fully classify\n",
      "\u001b[34mAdding to long memory...\u001b[0m\n",
      "\u001b[34mSave chat logs to long memory done.\u001b[0m\n",
      "\u001b[34mShort memory dump to Long memory.\u001b[0m\n"
     ]
    }
   ],
   "source": [
    "agent.save_to_long_memory(clear_short_memory=False)"
   ]
  },
  {
   "cell_type": "code",
   "execution_count": null,
   "metadata": {},
   "outputs": [],
   "source": [
    "agent.long_memory.origin_chat_logs"
   ]
  },
  {
   "cell_type": "code",
   "execution_count": 5,
   "metadata": {},
   "outputs": [
    {
     "data": {
      "text/plain": [
       "''"
      ]
     },
     "execution_count": 5,
     "metadata": {},
     "output_type": "execute_result"
    }
   ],
   "source": [
    "agent.long_memory.classify_chat_logs"
   ]
  },
  {
   "cell_type": "code",
   "execution_count": 4,
   "metadata": {},
   "outputs": [
    {
     "name": "stdout",
     "output_type": "stream",
     "text": [
      "{'id': '88e2c72c-baee-42aa-b719-b2719d134171', 'text': 'User asked about cloud computing concepts, specifically about Kubernetes and edge computing, and also inquired about transitioning to an Infrastructure as a Service (IaaS) solution.'}\n",
      "{'id': 'c7d63b69-190c-4f9b-ac65-45f0d7a5529e', 'text': 'User expressed interest in using Amazon Web Services (AWS) for IaaS solutions, followed by a discussion on the differences between Google Cloud and AWS.'}\n",
      "{'id': 'e744b3ce-8f3c-4489-86b6-c2fdde802dd7', 'text': \"User shared their thoughts about the *Harry Potter* series, discussing its themes, characters like Neville Longbottom, and significant moments like Harry's encounter in the Forbidden Forest.\"}\n"
     ]
    }
   ],
   "source": [
    "agent.long_memory.show_all_groups()"
   ]
  },
  {
   "cell_type": "markdown",
   "metadata": {},
   "source": [
    "Third run (check long memory)"
   ]
  },
  {
   "cell_type": "code",
   "execution_count": 6,
   "metadata": {},
   "outputs": [
    {
     "name": "stdout",
     "output_type": "stream",
     "text": [
      "\u001b[33mStarting chat, type 'exit' to exit\u001b[0m\n",
      "\u001b[31mSearch long memory, short memory\u001b[0m\n",
      "user:hello\n",
      "assistant:Hello! It’s great to hear from you! How have you been? If you still want to share that book, I’d love to hear more about it!\n",
      "\u001b[31mSearch long memory, short memory\u001b[0m\n",
      "user:Do you remember what character I like in Harry potter\n",
      "assistant:Yes, you really like Neville Longbottom! His transformation from a shy boy to a courageous leader in \"The Deathly Hallows\" is quite inspiring. Do you have a favorite scene with him, or is there another character you also enjoy?\n"
     ]
    }
   ],
   "source": [
    "agent.run()"
   ]
  },
  {
   "cell_type": "code",
   "execution_count": 7,
   "metadata": {},
   "outputs": [
    {
     "name": "stdout",
     "output_type": "stream",
     "text": [
      "You are an intelligent chatbot agent responsible for responding to user questions or engaging in conversation.\n",
      "You will receive the following four inputs:\n",
      "1.Chat History:The record of the current conversation.\n",
      "2.Short-term Relevant Memory:Recent information from the latest interactions.\n",
      "3.Long-term Relevant Memory:Older infomation from past interactions.\n",
      "4.User message:The user message.\n",
      "Based on these inputs, respond to the user, make the conversation feel coherent, natural, and personalized.\n",
      "\n",
      "Chat History:, [{'user': 'hello', 'assistant': 'Hello! It’s great to hear from you! How have you been? If you still want to share that book, I’d love to hear more about it!', 'time': '2024-11-08T16:51:58Z'}]\n",
      "Short-term Relevant Memory:{'retrieve_memory': []}\n",
      "Long-term Relevant Memory:{'closest_summary': \"Discussion on the character Neville Longbottom and his transformation in 'The Deathly Hallows'.\", 'similar_snippets': ['assistant:Neville Longbottom is such a fantastic character! His transformation throughout the series is truly inspiring, especially in \"The Deathly Hallows.\" Watching him grow from that shy, insecure boy to a courageous leader who plays a pivotal role in the battle against Voldemort is incredibly powerful. \\n\\nHis moment of bravery at Hogwarts really showcases that everyone has the potential to be a hero, regardless of their past. What do you think was the turning point for Neville in his character development? Or is there a particular scene with him that stands out to you?', 'user:I like character Neville Longbottom: Neville emerges as a true hero in this final installment. He transforms from a shy and timid boy into a brave leader who stands up against Voldemort and his followers. His character arc is inspiring, showcasing his newfound courage and determination to fight for what is right.'], 'related_summaries': [{'id': '7af0b771-74af-4801-ad04-0e251d90ff39', 'text': \"User expressed their thoughts about 'Harry Potter and the Deathly Hallows', discussing story themes and significant moments.\"}, {'id': '79e9b826-c6e9-43bd-9cdf-84ef9ea42e64', 'text': \"User shared thoughts on the Forbidden Forest scene from 'The Deathly Hallows'.\"}, {'id': '9c776014-750f-40a1-9f69-a8acfbbac4dd', 'text': 'User expressed intent to share a book, inviting the assistant to learn more about it.'}, {'id': '29f56fce-f17e-4711-aaff-eb7644dc85b6', 'text': 'Discussion includes explanations of edge computing and Kubernetes (K8s) by the assistant.'}]}\n",
      "User message:Do you remember what character I like in Harry potter\n",
      "\n"
     ]
    }
   ],
   "source": [
    "print(agent.current_prompt)"
   ]
  },
  {
   "cell_type": "code",
   "execution_count": 8,
   "metadata": {},
   "outputs": [
    {
     "name": "stdout",
     "output_type": "stream",
     "text": [
      "{'id': '0975b5d5-f124-4ace-a676-7d367cba7cad', 'text': \"assistant:Deciding whether to deploy your project to the cloud can depend on several factors. Here are some key considerations to help you make your decision:\\n\\n1. **Scalability**: If you expect your project's demand to grow or fluctuate, cloud services can provide the scalability needed without upfront investment in hardware.\\n\\n2. **Cost**: Analyze your budget. Cloud deployment can reduce costs associated with hardware and maintenance, but you should also consider ongoing operational costs.\\n\\n3. **Performance**: Consider the performance requirements of your application. If low latency and high-speed processing are crucial, you might need to evaluate edge computing options or the proximity to cloud data centers.\\n\\n4. **Development and Deployment Time**: Cloud environments often provide tools and services that can speed up your development and deployment process. If you need to get your project up and running quickly, the cloud might be beneficial.\\n\\n5. **Data Storage and Security**: Assess your data storage needs and the security requirements. Cloud providers often have robust security measures in place, but you’ll want to ensure they meet your specific standards.\\n\\n6. **Collaboration and Accessibility**: If your team needs to collaborate from different locations, cloud services can facilitate this by making your project accessible from anywhere.\\n\\n7. **Compliance**: Consider any regulatory compliance issues related to your data. Some industries require specific standards that might influence your choice.\\n\\nCan you provide more details about your project? This might help me to give you more tailored advice!\"}\n",
      "{'id': '21965269-95be-4c81-ba65-915171d9e85e', 'text': \"user:I like the Harry Potter and the Deathly Hallows is the thrilling conclusion to J.K. Rowling's epic series, following Harry Potter's final confrontation with Lord Voldemort. In this book, Harry, along with his friends Hermione and Ron, leaves Hogwarts and embarks on a dangerous quest to destroy the Horcruxes—objects containing fragments of Voldemort's soul that grant him immortality. Along the way, they uncover the legend of the Deathly Hallows, three powerful magical objects that, if united, could make one a master over death. The story is intense and fast-paced, filled with moments of suspense, sacrifice, and emotional depth as Harry faces incredible challenges and learns the true cost of his mission. With themes of love, loyalty, and resilience, The Deathly Hallows explores the ultimate battle between good and evil, bringing the series to a powerful and satisfying close that resonates deeply with readers.\"}\n",
      "{'id': '35f67406-90f1-4a6c-822f-809f24ab83b0', 'text': \"user:I have a issue, I don't know my project wether need to deploy to cloud, what can I judge\"}\n",
      "{'id': '3a1b9107-e609-4cd7-a7ba-e2a06b953cdd', 'text': 'user:describe k8s'}\n",
      "{'id': '3f90b2be-d8c7-4a6d-89dc-7e8784e60396', 'text': 'assistant:\"The Deathly Hallows\" is such a compelling and emotional conclusion to the series! I love how it weaves together themes of sacrifice, friendship, and the complexities of good versus evil. The quest for the Horcruxes is filled with tension, and it really highlights Harry\\'s growth as a character. The introduction of the Deathly Hallows adds an intriguing layer to the story, making it even more epic. \\n\\nWhat was your favorite moment from \"The Deathly Hallows\"? Or is there a particular element of the book that stood out to you?'}\n",
      "{'id': '41786793-b6cc-496d-a890-7863a4739693', 'text': 'assistant:Edge computing is a distributed computing framework that brings computation and data storage closer to the location where it’s needed, rather than relying on a centralized data center that may be far away. This approach reduces latency, improves speed, and can lead to more efficient bandwidth usage. \\n\\nIt’s particularly useful for applications that require real-time data processing, like IoT devices, autonomous vehicles, and smart city technologies. By processing data at the \"edge\" of the network, devices can respond faster and reduce the amount of data that needs to be sent to the cloud for processing. \\n\\nDo you want to dive deeper into any specific aspect of edge computing?'}\n",
      "{'id': '487a8ef5-b780-46aa-95fe-6120fd570068', 'text': \"assistant:Kubernetes, often abbreviated as K8s, is an open-source platform designed to automate the deployment, scaling, and management of containerized applications. Here are some key features and concepts:\\n\\n1. **Container Orchestration**: K8s helps manage containers across a cluster of machines, handling the complexity of deploying and scaling applications.\\n\\n2. **Pods**: The basic unit of deployment in Kubernetes. A pod can contain one or more containers that share resources and networking.\\n\\n3. **Services**: A way to expose applications running on a set of pods as a network service, allowing for easy discovery and load balancing.\\n\\n4. **Scaling**: Kubernetes can automatically scale your application up or down based on load, ensuring efficient resource use.\\n\\n5. **Self-Healing**: K8s can automatically restart containers that fail, replace containers, and kill those that don't respond to your user-defined health checks.\\n\\n6. **Declarative Configuration**: You define the desired state of your application using YAML or JSON files, and K8s works to maintain that state.\\n\\n7. **Ecosystem and Flexibility**: Kubernetes has a robust ecosystem with a variety of tools and integrations, making it highly adaptable to different environments and workloads.\\n\\nIt’s widely used for cloud-native applications and is a cornerstone for many DevOps practices due to its automation capabilities. If you're considering using Kubernetes for your project, I can provide more information on specific features or use cases that might be relevant!\"}\n",
      "{'id': '555311ae-ee98-43af-9637-8ac01b36e5a1', 'text': 'user:what is edge computing'}\n",
      "{'id': '6d5118d1-379f-477f-be6f-13b7a8678e1b', 'text': 'user:I like character Neville Longbottom: Neville emerges as a true hero in this final installment. He transforms from a shy and timid boy into a brave leader who stands up against Voldemort and his followers. His character arc is inspiring, showcasing his newfound courage and determination to fight for what is right.'}\n",
      "{'id': '7826618d-79f2-43e4-a382-d6356e0af785', 'text': 'assistant:Neville Longbottom is such a fantastic character! His transformation throughout the series is truly inspiring, especially in \"The Deathly Hallows.\" Watching him grow from that shy, insecure boy to a courageous leader who plays a pivotal role in the battle against Voldemort is incredibly powerful. \\n\\nHis moment of bravery at Hogwarts really showcases that everyone has the potential to be a hero, regardless of their past. What do you think was the turning point for Neville in his character development? Or is there a particular scene with him that stands out to you?'}\n",
      "{'id': '82b4be12-3d52-4f83-9c11-22d13b75dc74', 'text': \"user:the scence The Forbidden Forest: This mysterious forest becomes a poignant setting for Harry's ultimate confrontation with Voldemort. The forest symbolizes the unknown and the inevitability of death. It is here that Harry faces his destiny, making the forest a place of both fear and acceptance\"}\n",
      "{'id': '85623909-96b1-475a-9d59-d110d0583ea4', 'text': 'assistant:The Forbidden Forest is indeed a powerful setting in \"The Deathly Hallows.\" It’s so significant that it’s where Harry confronts Voldemort and ultimately embraces his own destiny. The mixture of fear and acceptance really elevates the emotional stakes. \\n\\nThe forest represents the unknown, not just in terms of the physical challenges it presents, but also in the broader themes of life and death. Harry’s journey into the forest is a profound moment that encapsulates the series’ exploration of bravery, sacrifice, and the acceptance of fate. \\n\\nDid you find that moment particularly impactful when you first read it? Or do you think it resonates even more after seeing how Harry’s character has developed throughout the series?'}\n",
      "{'id': 'aec9793b-e9fc-4510-8555-8a9276854947', 'text': \"assistant:That sounds great! I'd love to hear about the book you want to share. What’s the title, and what’s it about?\"}\n",
      "{'id': 'bbd4a6e4-ccbc-4968-bcf7-6a9e5e06a7c5', 'text': \"assistant:Of course! I'm here to help. What specific questions do you have about cloud computing?\"}\n",
      "{'id': 'c875ac7a-17b4-4cc6-b4d3-1208091ac878', 'text': 'user:I want to ask you some cloud computing question'}\n",
      "{'id': 'c964aec1-a159-43f9-82fb-5b05827018c8', 'text': 'user:I want to share a book with you'}\n"
     ]
    }
   ],
   "source": [
    "agent.long_memory.show_all_children()"
   ]
  }
 ],
 "metadata": {
  "kernelspec": {
   "display_name": "Python 3",
   "language": "python",
   "name": "python3"
  },
  "language_info": {
   "codemirror_mode": {
    "name": "ipython",
    "version": 3
   },
   "file_extension": ".py",
   "mimetype": "text/x-python",
   "name": "python",
   "nbconvert_exporter": "python",
   "pygments_lexer": "ipython3",
   "version": "3.10.12"
  }
 },
 "nbformat": 4,
 "nbformat_minor": 2
}
