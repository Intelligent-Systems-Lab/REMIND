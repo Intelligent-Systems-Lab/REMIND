{
 "cells": [
  {
   "cell_type": "code",
   "execution_count": 30,
   "metadata": {},
   "outputs": [],
   "source": [
    "import pandas as pd\n",
    "question_df = pd.read_json(\"eval_result.json\", lines=True)"
   ]
  },
  {
   "cell_type": "code",
   "execution_count": 31,
   "metadata": {},
   "outputs": [],
   "source": [
    "false_row = question_df[question_df['long_recall_sufficient'] == 'false']"
   ]
  },
  {
   "cell_type": "code",
   "execution_count": 32,
   "metadata": {},
   "outputs": [
    {
     "data": {
      "text/plain": [
       "Index([10, 12, 13, 20, 26, 27, 29, 39, 46], dtype='int64')"
      ]
     },
     "execution_count": 32,
     "metadata": {},
     "output_type": "execute_result"
    }
   ],
   "source": [
    "false_row.index"
   ]
  },
  {
   "cell_type": "code",
   "execution_count": 43,
   "metadata": {},
   "outputs": [
    {
     "name": "stdout",
     "output_type": "stream",
     "text": [
      "Question: {'user': 'What are some of the amazing memories we made together that you mentioned?', 'assistant': \"We've made so many great memories, like family trips, birthday celebrations, and just spending time together during the holidays.\"}\n",
      "Short memory: false\n",
      "\n",
      "\n",
      "Long memory: false\n",
      "{\n",
      "    \"closest_summary\": \"User experienced the loss of their grandson, reflecting on his bright personality and determination. They discussed memories of him trying the monkey bars at a park and how to honor his memory.\",\n",
      "    \"similar_snippets\": [\n",
      "        \"user:Just being here with me is enough, my dear. It was hard for me to accept that he's no longer here with us. He had so much potential in life., assistant:Do you want to talk more about him? Tell me what he was like.\",\n",
      "        \"user:Yes, he was. I just wish he could have lived longer and experience more of what life has to offer., assistant:I know it hurts to lose someone you love, but I'm here for you. We can honor his memory by doing the things he loved to do.\",\n",
      "        \"user:He was always so full of life and curiosity. He always wanted to try new things and learn about everything. I remember one time when we went to the park, and he wanted to try the monkey bars. He fell so many times, but he never gave up until he was able to do it., assistant:He sounds like he was a very determined and resilient kid.\",\n",
      "        \"user:Thank you, my dear. That's a great idea. It will help me to feel closer to him still., assistant:Just like how you helped me when I was struggling with math homework, I'll be here for you when you need someone to lean on.\",\n",
      "        \"user:I can't believe he's gone. My grandson was such a bright and happy child., assistant:I'm so sorry for your loss, Grandma/Grandpa. Is there anything I can do to help you?\"\n",
      "    ],\n",
      "    \"related_summaries\": [\n",
      "        {\n",
      "            \"id\": \"76d395ef-c690-41f6-a6ba-4ede8c8257fa\",\n",
      "            \"text\": \"User shares excitement about the new Childtmas tree and plans for creating homemade treats and movie nights.\"\n",
      "        },\n",
      "        {\n",
      "            \"id\": \"e3220816-b05a-4ca8-9875-4a9eea587e38\",\n",
      "            \"text\": \"User emotional about child's upcoming high school graduation; reflecting on memories and support.\"\n",
      "        },\n",
      "        {\n",
      "            \"id\": \"e167f8bf-75fb-475d-8627-401b6d884acb\",\n",
      "            \"text\": \"User is finishing work and requests coffee. Assistant offers support and reminisces about past homework help.\"\n",
      "        },\n",
      "        {\n",
      "            \"id\": \"8523960c-baee-4174-b793-78a44f7e5d33\",\n",
      "            \"text\": \"User assisting child with math homework; sharing experiences and tips.\"\n",
      "        }\n",
      "    ]\n",
      "}\n",
      "\n",
      "\n",
      "Long recall memory: false\n",
      "{\n",
      "    \"search times\": 1,\n",
      "    \"used queries\": [\n",
      "        \"What are some of the amazing memories we made together that you mentioned?\"\n",
      "    ],\n",
      "    \"searched memory\": [\n",
      "        \"User experienced the loss of their grandson, reflecting on his bright personality and determination. They discussed memories of him trying the monkey bars at a park and how to honor his memory.\"\n",
      "    ],\n",
      "    \"thought\": \"I have gathered enough information about the memories related to the user's grandson, including the impactful moments they shared, such as his determination while trying the monkey bars.\",\n",
      "    \"evidence\": [\n",
      "        \"user:He was always so full of life and curiosity. He always wanted to try new things and learn about everything. I remember one time when we went to the park, and he wanted to try the monkey bars. He fell so many times, but he never gave up until he was able to do it.\"\n",
      "    ]\n",
      "}\n",
      "reason: The searched memory discusses the user's grandson and specific memories related to him, which do not answer the user's question about the amazing memories shared with their child mentioned in the original conversation. The context and individuals involved are different.\n"
     ]
    }
   ],
   "source": [
    "import json\n",
    "\n",
    "index = 10\n",
    "print(f\"Question: {question_df['question'][index]}\")\n",
    "print(f\"Short memory: {question_df['short_sufficient'][index]}\")\n",
    "print(f\"\\n\\nLong memory: {question_df['long_sufficient'][index]}\")\n",
    "print(json.dumps(eval(question_df['long_mem_result'][index]), indent=4, ensure_ascii=True))\n",
    "print(f\"\\n\\nLong recall memory: {question_df['long_recall_sufficient'][index]}\")\n",
    "print(json.dumps(eval(question_df['long_mem_recall_result'][index]), indent=4, ensure_ascii=True))\n",
    "print(f\"reason: {question_df['long_recall_reason'][index]}\")"
   ]
  },
  {
   "cell_type": "code",
   "execution_count": 44,
   "metadata": {},
   "outputs": [
    {
     "name": "stdout",
     "output_type": "stream",
     "text": [
      "{'user': 'Thank you for being here for me, sweetie. You always know how to make me feel better.', 'assistant': \"Of course, Mom. I love you. What's been going on that's making you so emotional?\", 'time': '2024-11-18T14:46:00Z'}\n",
      "{'user': \"I just can't believe you'll be graduating from high school soon. It feels like only yesterday you were starting kindergarten.\", 'assistant': \"I know, it's crazy how fast time flies. But I'm excited for what's to come, and I'm grateful for all the amazing memories we've made together.\", 'time': '2024-11-18T14:47:00Z'}\n",
      "{'user': \"Me too, kiddo. I'm so proud of the young adult you've become. You're going to do great things in this world.\", 'assistant': \"Thank you, Mom. I hope so. But I couldn't have done it without your love and support all these years.\", 'time': '2024-11-18T14:48:00Z'}\n",
      "{'user': \"Aw, you're making me cry again. But seriously, I'll always be here for you no matter what.\", 'assistant': \"I know. And I'll always be here for you too, Mom. We're a team.\", 'time': '2024-11-18T14:49:00Z'}\n"
     ]
    }
   ],
   "source": [
    "for i in eval(question_df['first_session_dialogue'][index]):\n",
    "    print(i)"
   ]
  }
 ],
 "metadata": {
  "kernelspec": {
   "display_name": "Python 3",
   "language": "python",
   "name": "python3"
  },
  "language_info": {
   "codemirror_mode": {
    "name": "ipython",
    "version": 3
   },
   "file_extension": ".py",
   "mimetype": "text/x-python",
   "name": "python",
   "nbconvert_exporter": "python",
   "pygments_lexer": "ipython3",
   "version": "3.10.12"
  }
 },
 "nbformat": 4,
 "nbformat_minor": 2
}
