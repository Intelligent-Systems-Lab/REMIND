{
 "cells": [
  {
   "cell_type": "code",
   "execution_count": 1,
   "metadata": {},
   "outputs": [],
   "source": [
    "import pandas as pd\n",
    "question_df = pd.read_json(\"eval_result.json\", lines=True)"
   ]
  },
  {
   "cell_type": "code",
   "execution_count": 2,
   "metadata": {},
   "outputs": [],
   "source": [
    "false_row = question_df[question_df['long_recall_sufficient'] == 'false']"
   ]
  },
  {
   "cell_type": "code",
   "execution_count": 3,
   "metadata": {},
   "outputs": [
    {
     "data": {
      "text/plain": [
       "Index([1, 3, 6, 20, 23, 30, 34, 38, 45, 49, 61, 63, 75, 79, 84], dtype='int64')"
      ]
     },
     "execution_count": 3,
     "metadata": {},
     "output_type": "execute_result"
    }
   ],
   "source": [
    "false_row.index"
   ]
  },
  {
   "cell_type": "code",
   "execution_count": 4,
   "metadata": {},
   "outputs": [
    {
     "name": "stdout",
     "output_type": "stream",
     "text": [
      "Question: {'user': 'What did we work on together last year that was such a great experience?', 'assistant': 'We worked on that project where we collaborated really well and had a good time.'}\n",
      "Short memory: true\n",
      "{\n",
      "    \"retrieve_memory\": [\n",
      "        {\n",
      "            \"text\": \"user:Exactly! It's not always about the quantity, but the depth of our connections., assistant:You know, this reminds me of that project we worked on together last year. We spent a lot of time on it, but it was such a great experience because we really collaborated well and had a good time doing it.\",\n",
      "            \"time\": \"11/18 19:31\"\n",
      "        },\n",
      "        {\n",
      "            \"text\": \"user:Yes, I remember that! That was definitely a highlight of my time here so far., assistant:I think it just goes to show that it's not always about the work we do, but the people we work with. Having positive relationships can make all the difference.\",\n",
      "            \"time\": \"11/18 19:32\"\n",
      "        },\n",
      "        {\n",
      "            \"text\": \"user:It's been pretty busy, but I'm managing. It's just nice to have some extra time to myself on my days off., assistant:I remember when you were talking about your assignment to write an important paper, did you end up finishing it?\",\n",
      "            \"time\": \"11/18 19:47\"\n",
      "        },\n",
      "        {\n",
      "            \"text\": \"user:Yeah, I did. It was a lot of work, but I'm proud of the final result. , assistant:That's great to hear. And you mentioned before that you're making some extra money at the grocery store?\",\n",
      "            \"time\": \"11/18 19:48\"\n",
      "        },\n",
      "        {\n",
      "            \"text\": \"user:Thanks. I love finding new books to read., assistant:Me too. Speaking of new things, have you written more on that important paper you were telling me about last time we spoke?\",\n",
      "            \"time\": \"11/18 19:52\"\n",
      "        }\n",
      "    ]\n",
      "}\n",
      "\n",
      "\n",
      "Long memory: true\n",
      "{\n",
      "    \"closest_summary\": \"User reflected on the importance of positive interactions and memorable collaborations during a conversation about relationships from earlier in the day.\",\n",
      "    \"similar_snippets\": [\n",
      "        \"user:Exactly! It's not always about the quantity, but the depth of our connections., assistant:You know, this reminds me of that project we worked on together last year. We spent a lot of time on it, but it was such a great experience because we really collaborated well and had a good time doing it.\",\n",
      "        \"user:Yes, I remember that! That was definitely a highlight of my time here so far., assistant:I think it just goes to show that it's not always about the work we do, but the people we work with. Having positive relationships can make all the difference.\",\n",
      "        \"user:No, but seriously, I think it's important to recognize when we have positive interactions with others. It can really brighten our day., assistant:I totally agree. And it's not just about the length of time we spend with someone, but the quality of our interactions as well.\",\n",
      "        \"user:I spent half an hour with you earlier, and I felt pretty satisfied afterwards., assistant:Haha, glad to hear I have that effect on you.\",\n",
      "        \"user:Hey, I just realized something interesting today., assistant:What's that?\"\n",
      "    ],\n",
      "    \"related_summaries\": [\n",
      "        {\n",
      "            \"id\": \"7aec5b78-3a42-4a42-b7db-fd85b3c57ef4\",\n",
      "            \"text\": \"User is assigned to write a paper on the impact of technology on businesses and discusses research and organizational strategies with the assistant.\"\n",
      "        },\n",
      "        {\n",
      "            \"id\": \"9ad69bd0-58ce-4065-bb5f-4c817e26447f\",\n",
      "            \"text\": \"User is proud of their paper submission and has been working at the grocery store to help family expenses.\"\n",
      "        },\n",
      "        {\n",
      "            \"id\": \"523e7c7b-59d8-4c9e-8d3e-41217a801d17\",\n",
      "            \"text\": \"User is reading a mystery novel lent by assistant and appreciates the time spent reading.\"\n",
      "        },\n",
      "        {\n",
      "            \"id\": \"2cc3a005-5831-49a2-a94f-91fe5538b2b1\",\n",
      "            \"text\": \"User is managing their busy schedule at work and appreciates having extra time on their days off.\"\n",
      "        }\n",
      "    ]\n",
      "}\n",
      "\n",
      "\n",
      "Long recall memory: false\n",
      "{\n",
      "    \"search times\": 1,\n",
      "    \"used queries\": [\n",
      "        \"What did we work on together last year that was such a great experience?\"\n",
      "    ],\n",
      "    \"searched memory\": [\n",
      "        \"User reflected on the importance of positive interactions and memorable collaborations during a conversation about relationships from earlier in the day.\"\n",
      "    ],\n",
      "    \"thought\": \"Based on the information found, our previous discussions reflect on the importance of positive interactions and memorable collaborations we had last year, but the specific details of that project were not retrieved. However, the sentiment of those interactions was highlighted, and it seems they had a lasting impact.\",\n",
      "    \"evidence\": [\n",
      "        \"User reflected on the importance of positive interactions and memorable collaborations during a conversation about relationships from earlier in the day.\"\n",
      "    ]\n",
      "}\n",
      "reason: The searched memory does not provide specific details about the project worked on together last year, only general reflections on the importance of positive interactions. Therefore, it does not directly answer the question.\n"
     ]
    }
   ],
   "source": [
    "import json\n",
    "\n",
    "index = 20\n",
    "print(f\"Question: {question_df['question'][index]}\")\n",
    "print(f\"Short memory: {question_df['short_sufficient'][index]}\")\n",
    "print(json.dumps(eval(question_df['short_mem_result'][index]), indent=4, ensure_ascii=True))\n",
    "print(f\"\\n\\nLong memory: {question_df['long_sufficient'][index]}\")\n",
    "print(json.dumps(eval(question_df['long_mem_result'][index]), indent=4, ensure_ascii=True))\n",
    "print(f\"\\n\\nLong recall memory: {question_df['long_recall_sufficient'][index]}\")\n",
    "print(json.dumps(eval(question_df['long_mem_recall_result'][index]), indent=4, ensure_ascii=True))\n",
    "print(f\"reason: {question_df['long_recall_reason'][index]}\")"
   ]
  },
  {
   "cell_type": "code",
   "execution_count": 53,
   "metadata": {},
   "outputs": [
    {
     "name": "stdout",
     "output_type": "stream",
     "text": [
      "{'user': \"Hey there, Classmates B! What's up? Why are you avoiding me?\", 'assistant': 'Nothing much, Classmates A. I just have some work to do.', 'time': '2024-11-18T11:23:00Z'}\n",
      "{'user': \"Oh come on, don't be like that. You always seem to avoid me. What's the matter?\", 'assistant': \"Well, to be honest, I don't appreciate the way you treat me. You're always making rude comments and trying to make me feel uncomfortable.\", 'time': '2024-11-18T11:24:00Z'}\n",
      "{'user': 'What are you talking about? I always thought we had a playful banter between us.', 'assistant': \"It may be playful to you, but it's not to me. Your comments can be hurtful and you never seem to consider how they affect others.\", 'time': '2024-11-18T11:25:00Z'}\n",
      "{'user': \"Wow, I had no idea. I truly apologize for any hurt I may have caused you. I'll make sure to be more considerate in the future.\", 'assistant': 'Thank you for understanding, Classmates A. It means a lot to me. ', 'time': '2024-11-18T11:26:00Z'}\n",
      "{'user': \"Of course. And please, if there's ever anything else you need me to work on or if I'm unknowingly bothering you, don't hesitate to let me know.\", 'assistant': 'I appreciate that, Classmates A. Actually, now that you mention it, there was this one time...', 'time': '2024-11-18T11:27:00Z'}\n"
     ]
    }
   ],
   "source": [
    "for i in eval(question_df['first_session_dialogue'][index]):\n",
    "    print(i)"
   ]
  }
 ],
 "metadata": {
  "kernelspec": {
   "display_name": "Python 3",
   "language": "python",
   "name": "python3"
  },
  "language_info": {
   "codemirror_mode": {
    "name": "ipython",
    "version": 3
   },
   "file_extension": ".py",
   "mimetype": "text/x-python",
   "name": "python",
   "nbconvert_exporter": "python",
   "pygments_lexer": "ipython3",
   "version": "3.10.12"
  }
 },
 "nbformat": 4,
 "nbformat_minor": 2
}
